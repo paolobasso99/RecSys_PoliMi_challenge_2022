{
 "cells": [
  {
   "cell_type": "code",
   "execution_count": 1,
   "metadata": {},
   "outputs": [],
   "source": [
    "import os\n",
    "import random\n",
    "\n",
    "import numpy as np\n",
    "import pandas as pd\n",
    "import scipy.sparse as sps\n",
    "import matplotlib.pyplot as plt\n",
    "import seaborn as snb\n",
    "\n",
    "# Random seed for reproducibility\n",
    "SEED = 42\n",
    "random.seed(SEED)\n",
    "os.environ['PYTHONHASHSEED'] = str(SEED)\n",
    "np.random.seed(SEED)"
   ]
  },
  {
   "cell_type": "code",
   "execution_count": 2,
   "metadata": {},
   "outputs": [
    {
     "name": "stdout",
     "output_type": "stream",
     "text": [
      "Loading previusly generated splits...\n",
      "Generating implicit URM...\n"
     ]
    }
   ],
   "source": [
    "from data_manager import DatasetLoader, DatasetSplitter, URMGenerator\n",
    "\n",
    "dataset_loader = DatasetLoader()\n",
    "dataset_splitter = DatasetSplitter(dataset_loader)\n",
    "dataset_train, dataset_val = dataset_splitter.load_train_val()\n",
    "URM_generator = URMGenerator(dataset_train, dataset_val)\n",
    "URM_train, URM_val = URM_generator.generate_implicit_URM()\n",
    "URM_all = URM_train + URM_val"
   ]
  },
  {
   "cell_type": "code",
   "execution_count": 3,
   "metadata": {},
   "outputs": [],
   "source": [
    "from evaluation.evaluator import EvaluatorHoldout\n",
    "\n",
    "evaluator = EvaluatorHoldout(URM_val, cutoff_list=[10])"
   ]
  },
  {
   "cell_type": "code",
   "execution_count": 4,
   "metadata": {},
   "outputs": [
    {
     "name": "stderr",
     "output_type": "stream",
     "text": [
      "d:\\Developing\\RecSys_PoliMi_challenge_2020\\.venv\\lib\\site-packages\\tqdm\\auto.py:22: TqdmWarning: IProgress not found. Please update jupyter and ipywidgets. See https://ipywidgets.readthedocs.io/en/stable/user_install.html\n",
      "  from .autonotebook import tqdm as notebook_tqdm\n"
     ]
    }
   ],
   "source": [
    "from Recommenders.MatrixFactorization.IALSRecommenderImplicit import (\n",
    "    IALSRecommenderImplicit,\n",
    ")\n",
    "from skopt.space import Real, Integer, Categorical\n",
    "from HyperparameterTuning.SearchBayesianSkopt import SearchBayesianSkopt\n",
    "from HyperparameterTuning.SearchAbstractClass import SearchInputRecommenderArgs\n",
    "\n",
    "output_folder_path = \"result_experiments/IALSRecommenderImplicit/\"\n",
    "recommender_class = IALSRecommenderImplicit\n",
    "n_cases = 10\n",
    "n_random_starts = int(n_cases * 0.3)\n",
    "metric_to_optimize = \"MAP\"\n",
    "cutoff_to_optimize = 10\n",
    "\n",
    "# If directory does not exist, create\n",
    "if not os.path.exists(output_folder_path):\n",
    "    os.makedirs(output_folder_path)\n",
    "\n",
    "# Define hyperparameters\n",
    "hyperparameters_range_dictionary = {\n",
    "    \"num_factors\": Integer(1, 200),\n",
    "    \"epochs\": Categorical([30]),\n",
    "    \"alpha\": Real(low=1e-3, high=50.0, prior=\"log-uniform\"),\n",
    "    \"reg\": Real(low=1e-5, high=1e-2, prior=\"log-uniform\"),\n",
    "}\n",
    "\n",
    "hyperparameter_search = SearchBayesianSkopt(\n",
    "    recommender_class,\n",
    "    evaluator_validation=evaluator,\n",
    ")\n",
    "\n",
    "recommender_input_args = SearchInputRecommenderArgs(\n",
    "    CONSTRUCTOR_POSITIONAL_ARGS=[\n",
    "        URM_train,\n",
    "    ],\n",
    "    CONSTRUCTOR_KEYWORD_ARGS={},\n",
    "    FIT_POSITIONAL_ARGS=[],\n",
    "    FIT_KEYWORD_ARGS={},\n",
    "    EARLYSTOPPING_KEYWORD_ARGS={},\n",
    ")\n"
   ]
  },
  {
   "cell_type": "code",
   "execution_count": 5,
   "metadata": {},
   "outputs": [
    {
     "name": "stdout",
     "output_type": "stream",
     "text": [
      "Iteration No: 1 started. Evaluating function at random point.\n",
      "SearchBayesianSkopt: Testing config: {'num_factors': 136, 'epochs': 30, 'alpha': 0.0017580914002528066, 'reg': 0.00017643527285901881}\n"
     ]
    },
    {
     "name": "stderr",
     "output_type": "stream",
     "text": [
      "100%|██████████| 30/30 [05:26<00:00, 10.90s/it]\n"
     ]
    },
    {
     "name": "stdout",
     "output_type": "stream",
     "text": [
      "EvaluatorHoldout: Processed 41629 (100.0%) in 40.58 sec. Users per second: 1026\n",
      "SearchBayesianSkopt: New best config found. Config 0: {'num_factors': 136, 'epochs': 30, 'alpha': 0.0017580914002528066, 'reg': 0.00017643527285901881} - results: PRECISION: 0.0266113, PRECISION_RECALL_MIN_DEN: 0.0419704, RECALL: 0.0392930, MAP: 0.0107603, MAP_MIN_DEN: 0.0164984, MRR: 0.0816937, NDCG: 0.0382631, F1: 0.0317320, HIT_RATE: 0.2045689, ARHR_ALL_HITS: 0.0932242, NOVELTY: 0.0039111, AVERAGE_POPULARITY: 0.2396484, DIVERSITY_MEAN_INTER_LIST: 0.8681330, DIVERSITY_HERFINDAHL: 0.9868112, COVERAGE_ITEM: 0.0139960, COVERAGE_ITEM_HIT: 0.0109357, ITEMS_IN_GT: 0.9925736, COVERAGE_USER: 1.0000000, COVERAGE_USER_HIT: 0.2045689, USERS_IN_GT: 1.0000000, DIVERSITY_GINI: 0.0030685, SHANNON_ENTROPY: 6.6502653, RATIO_DIVERSITY_HERFINDAHL: 0.9871370, RATIO_DIVERSITY_GINI: 0.0060319, RATIO_SHANNON_ENTROPY: 0.4928353, RATIO_AVERAGE_POPULARITY: 4.7354968, RATIO_NOVELTY: 0.2237667, \n",
      "\n",
      "SearchBayesianSkopt: Saving model in result_experiments/IALSRecommenderImplicit/IALSRecommenderImplicit\n",
      "\n",
      "IALSRecommenderImplicit: Saving model in file 'result_experiments/IALSRecommenderImplicit/IALSRecommenderImplicit_best_model'\n",
      "IALSRecommenderImplicit: Saving complete\n",
      "Iteration No: 1 ended. Evaluation done at random point.\n",
      "Time taken: 370.2397\n",
      "Function value obtained: -0.0108\n",
      "Current minimum: -0.0108\n",
      "Iteration No: 2 started. Evaluating function at random point.\n",
      "SearchBayesianSkopt: Testing config: {'num_factors': 111, 'epochs': 30, 'alpha': 2.673331669120761, 'reg': 0.0013378598915100841}\n"
     ]
    },
    {
     "name": "stderr",
     "output_type": "stream",
     "text": [
      "100%|██████████| 30/30 [05:30<00:00, 11.03s/it]\n"
     ]
    },
    {
     "name": "stdout",
     "output_type": "stream",
     "text": [
      "EvaluatorHoldout: Processed 41629 (100.0%) in 32.55 sec. Users per second: 1279\n",
      "SearchBayesianSkopt: New best config found. Config 1: {'num_factors': 111, 'epochs': 30, 'alpha': 2.673331669120761, 'reg': 0.0013378598915100841} - results: PRECISION: 0.0385164, PRECISION_RECALL_MIN_DEN: 0.0624529, RECALL: 0.0589176, MAP: 0.0181172, MAP_MIN_DEN: 0.0293956, MRR: 0.1334094, NDCG: 0.0615547, F1: 0.0465812, HIT_RATE: 0.2795647, ARHR_ALL_HITS: 0.1546995, NOVELTY: 0.0044136, AVERAGE_POPULARITY: 0.1096405, DIVERSITY_MEAN_INTER_LIST: 0.9737169, DIVERSITY_HERFINDAHL: 0.9973694, COVERAGE_ITEM: 0.0477823, COVERAGE_ITEM_HIT: 0.0352144, ITEMS_IN_GT: 0.9925736, COVERAGE_USER: 1.0000000, COVERAGE_USER_HIT: 0.2795647, USERS_IN_GT: 1.0000000, DIVERSITY_GINI: 0.0146936, SHANNON_ENTROPY: 8.9193424, RATIO_DIVERSITY_HERFINDAHL: 0.9976986, RATIO_DIVERSITY_GINI: 0.0288842, RATIO_SHANNON_ENTROPY: 0.6609912, RATIO_AVERAGE_POPULARITY: 2.1665162, RATIO_NOVELTY: 0.2525192, \n",
      "\n",
      "SearchBayesianSkopt: Saving model in result_experiments/IALSRecommenderImplicit/IALSRecommenderImplicit\n",
      "\n",
      "IALSRecommenderImplicit: Saving model in file 'result_experiments/IALSRecommenderImplicit/IALSRecommenderImplicit_best_model'\n",
      "IALSRecommenderImplicit: Saving complete\n",
      "Iteration No: 2 ended. Evaluation done at random point.\n",
      "Time taken: 365.8209\n",
      "Function value obtained: -0.0181\n",
      "Current minimum: -0.0181\n",
      "Iteration No: 3 started. Evaluating function at random point.\n",
      "SearchBayesianSkopt: Testing config: {'num_factors': 149, 'epochs': 30, 'alpha': 0.06125959516061066, 'reg': 0.006498262230672751}\n"
     ]
    },
    {
     "name": "stderr",
     "output_type": "stream",
     "text": [
      "100%|██████████| 30/30 [05:40<00:00, 11.33s/it]\n"
     ]
    },
    {
     "name": "stdout",
     "output_type": "stream",
     "text": [
      "EvaluatorHoldout: Processed 41629 (100.0%) in 44.00 sec. Users per second: 946\n",
      "SearchBayesianSkopt: Config 2 is suboptimal. Config: {'num_factors': 149, 'epochs': 30, 'alpha': 0.06125959516061066, 'reg': 0.006498262230672751} - results: PRECISION: 0.0182133, PRECISION_RECALL_MIN_DEN: 0.0282008, RECALL: 0.0261388, MAP: 0.0079305, MAP_MIN_DEN: 0.0122443, MRR: 0.0633141, NDCG: 0.0275698, F1: 0.0214679, HIT_RATE: 0.1463643, ARHR_ALL_HITS: 0.0705327, NOVELTY: 0.0045840, AVERAGE_POPULARITY: 0.0719457, DIVERSITY_MEAN_INTER_LIST: 0.9320682, DIVERSITY_HERFINDAHL: 0.9932046, COVERAGE_ITEM: 0.0355409, COVERAGE_ITEM_HIT: 0.0182397, ITEMS_IN_GT: 0.9925736, COVERAGE_USER: 1.0000000, COVERAGE_USER_HIT: 0.1463643, USERS_IN_GT: 1.0000000, DIVERSITY_GINI: 0.0077461, SHANNON_ENTROPY: 7.9440757, RATIO_DIVERSITY_HERFINDAHL: 0.9935325, RATIO_DIVERSITY_GINI: 0.0152270, RATIO_SHANNON_ENTROPY: 0.5887165, RATIO_AVERAGE_POPULARITY: 1.4216607, RATIO_NOVELTY: 0.2622664, \n",
      "\n",
      "Iteration No: 3 ended. Evaluation done at random point.\n",
      "Time taken: 385.3357\n",
      "Function value obtained: -0.0079\n",
      "Current minimum: -0.0181\n",
      "Iteration No: 4 started. Searching for the next optimal point.\n",
      "SearchBayesianSkopt: Testing config: {'num_factors': 110, 'epochs': 30, 'alpha': 2.3639867089957214, 'reg': 0.001347942713591856}\n"
     ]
    },
    {
     "name": "stderr",
     "output_type": "stream",
     "text": [
      "100%|██████████| 30/30 [05:32<00:00, 11.08s/it]\n"
     ]
    },
    {
     "name": "stdout",
     "output_type": "stream",
     "text": [
      "EvaluatorHoldout: Processed 41629 (100.0%) in 33.80 sec. Users per second: 1231\n",
      "SearchBayesianSkopt: Config 3 is suboptimal. Config: {'num_factors': 110, 'epochs': 30, 'alpha': 2.3639867089957214, 'reg': 0.001347942713591856} - results: PRECISION: 0.0379831, PRECISION_RECALL_MIN_DEN: 0.0611805, RECALL: 0.0576080, MAP: 0.0178246, MAP_MIN_DEN: 0.0287295, MRR: 0.1308609, NDCG: 0.0603092, F1: 0.0457811, HIT_RATE: 0.2757933, ARHR_ALL_HITS: 0.1519089, NOVELTY: 0.0044114, AVERAGE_POPULARITY: 0.1084945, DIVERSITY_MEAN_INTER_LIST: 0.9728558, DIVERSITY_HERFINDAHL: 0.9972832, COVERAGE_ITEM: 0.0457828, COVERAGE_ITEM_HIT: 0.0339903, ITEMS_IN_GT: 0.9925736, COVERAGE_USER: 1.0000000, COVERAGE_USER_HIT: 0.2757933, USERS_IN_GT: 1.0000000, DIVERSITY_GINI: 0.0141388, SHANNON_ENTROPY: 8.8607196, RATIO_DIVERSITY_HERFINDAHL: 0.9976125, RATIO_DIVERSITY_GINI: 0.0277934, RATIO_SHANNON_ENTROPY: 0.6566468, RATIO_AVERAGE_POPULARITY: 2.1438712, RATIO_NOVELTY: 0.2523933, \n",
      "\n",
      "Iteration No: 4 ended. Search finished for the next optimal point.\n",
      "Time taken: 367.0974\n",
      "Function value obtained: -0.0178\n",
      "Current minimum: -0.0181\n",
      "Iteration No: 5 started. Searching for the next optimal point.\n",
      "SearchBayesianSkopt: Testing config: {'num_factors': 26, 'epochs': 30, 'alpha': 49.99999999999999, 'reg': 2.700861272464192e-05}\n"
     ]
    },
    {
     "name": "stderr",
     "output_type": "stream",
     "text": [
      "100%|██████████| 30/30 [03:49<00:00,  7.65s/it]\n"
     ]
    },
    {
     "name": "stdout",
     "output_type": "stream",
     "text": [
      "EvaluatorHoldout: Processed 41629 (100.0%) in 32.86 sec. Users per second: 1267\n",
      "SearchBayesianSkopt: Config 4 is suboptimal. Config: {'num_factors': 26, 'epochs': 30, 'alpha': 49.99999999999999, 'reg': 2.700861272464192e-05} - results: PRECISION: 0.0338130, PRECISION_RECALL_MIN_DEN: 0.0591322, RECALL: 0.0570320, MAP: 0.0135009, MAP_MIN_DEN: 0.0237636, MRR: 0.1049689, NDCG: 0.0524328, F1: 0.0424552, HIT_RATE: 0.2641428, ARHR_ALL_HITS: 0.1187898, NOVELTY: 0.0040869, AVERAGE_POPULARITY: 0.2318632, DIVERSITY_MEAN_INTER_LIST: 0.9192427, DIVERSITY_HERFINDAHL: 0.9919221, COVERAGE_ITEM: 0.0660220, COVERAGE_ITEM_HIT: 0.0335414, ITEMS_IN_GT: 0.9925736, COVERAGE_USER: 1.0000000, COVERAGE_USER_HIT: 0.2641428, USERS_IN_GT: 1.0000000, DIVERSITY_GINI: 0.0095854, SHANNON_ENTROPY: 8.0956871, RATIO_DIVERSITY_HERFINDAHL: 0.9922495, RATIO_DIVERSITY_GINI: 0.0188425, RATIO_SHANNON_ENTROPY: 0.5999521, RATIO_AVERAGE_POPULARITY: 4.5816603, RATIO_NOVELTY: 0.2338247, \n",
      "\n",
      "Iteration No: 5 ended. Search finished for the next optimal point.\n",
      "Time taken: 262.9648\n",
      "Function value obtained: -0.0135\n",
      "Current minimum: -0.0181\n",
      "Iteration No: 6 started. Searching for the next optimal point.\n",
      "SearchBayesianSkopt: Testing config: {'num_factors': 159, 'epochs': 30, 'alpha': 44.624998245244456, 'reg': 1.232659073045777e-05}\n"
     ]
    },
    {
     "name": "stderr",
     "output_type": "stream",
     "text": [
      "100%|██████████| 30/30 [05:43<00:00, 11.44s/it]\n"
     ]
    },
    {
     "name": "stdout",
     "output_type": "stream",
     "text": [
      "EvaluatorHoldout: Processed 41629 (100.0%) in 33.38 sec. Users per second: 1247\n",
      "SearchBayesianSkopt: Config 5 is suboptimal. Config: {'num_factors': 159, 'epochs': 30, 'alpha': 44.624998245244456, 'reg': 1.232659073045777e-05} - results: PRECISION: 0.0345384, PRECISION_RECALL_MIN_DEN: 0.0575430, RECALL: 0.0548413, MAP: 0.0143259, MAP_MIN_DEN: 0.0239943, MRR: 0.1105490, NDCG: 0.0529518, F1: 0.0423839, HIT_RATE: 0.2650076, ARHR_ALL_HITS: 0.1255340, NOVELTY: 0.0043400, AVERAGE_POPULARITY: 0.1567808, DIVERSITY_MEAN_INTER_LIST: 0.9682309, DIVERSITY_HERFINDAHL: 0.9968208, COVERAGE_ITEM: 0.1302485, COVERAGE_ITEM_HIT: 0.0543110, ITEMS_IN_GT: 0.9925736, COVERAGE_USER: 1.0000000, COVERAGE_USER_HIT: 0.2650076, USERS_IN_GT: 1.0000000, DIVERSITY_GINI: 0.0192926, SHANNON_ENTROPY: 9.2009768, RATIO_DIVERSITY_HERFINDAHL: 0.9971499, RATIO_DIVERSITY_GINI: 0.0379246, RATIO_SHANNON_ENTROPY: 0.6818625, RATIO_AVERAGE_POPULARITY: 3.0980182, RATIO_NOVELTY: 0.2483096, \n",
      "\n",
      "Iteration No: 6 ended. Search finished for the next optimal point.\n",
      "Time taken: 377.5620\n",
      "Function value obtained: -0.0143\n",
      "Current minimum: -0.0181\n",
      "Iteration No: 7 started. Searching for the next optimal point.\n",
      "SearchBayesianSkopt: Testing config: {'num_factors': 200, 'epochs': 30, 'alpha': 8.447810208378677, 'reg': 1.000821776801401e-05}\n"
     ]
    },
    {
     "name": "stderr",
     "output_type": "stream",
     "text": [
      "100%|██████████| 30/30 [05:38<00:00, 11.27s/it]\n"
     ]
    },
    {
     "name": "stdout",
     "output_type": "stream",
     "text": [
      "EvaluatorHoldout: Processed 41629 (100.0%) in 35.65 sec. Users per second: 1168\n",
      "SearchBayesianSkopt: New best config found. Config 6: {'num_factors': 200, 'epochs': 30, 'alpha': 8.447810208378677, 'reg': 1.000821776801401e-05} - results: PRECISION: 0.0408633, PRECISION_RECALL_MIN_DEN: 0.0670539, RECALL: 0.0636937, MAP: 0.0189691, MAP_MIN_DEN: 0.0314750, MRR: 0.1390246, NDCG: 0.0654813, F1: 0.0497860, HIT_RATE: 0.2953950, ARHR_ALL_HITS: 0.1617641, NOVELTY: 0.0045000, AVERAGE_POPULARITY: 0.1119067, DIVERSITY_MEAN_INTER_LIST: 0.9808244, DIVERSITY_HERFINDAHL: 0.9980801, COVERAGE_ITEM: 0.0964214, COVERAGE_ITEM_HIT: 0.0619415, ITEMS_IN_GT: 0.9925736, COVERAGE_USER: 1.0000000, COVERAGE_USER_HIT: 0.2953950, USERS_IN_GT: 1.0000000, DIVERSITY_GINI: 0.0230997, SHANNON_ENTROPY: 9.5737397, RATIO_DIVERSITY_HERFINDAHL: 0.9984096, RATIO_DIVERSITY_GINI: 0.0454085, RATIO_SHANNON_ENTROPY: 0.7094870, RATIO_AVERAGE_POPULARITY: 2.2112971, RATIO_NOVELTY: 0.2574636, \n",
      "\n",
      "SearchBayesianSkopt: Saving model in result_experiments/IALSRecommenderImplicit/IALSRecommenderImplicit\n",
      "\n",
      "IALSRecommenderImplicit: Saving model in file 'result_experiments/IALSRecommenderImplicit/IALSRecommenderImplicit_best_model'\n",
      "IALSRecommenderImplicit: Saving complete\n",
      "Iteration No: 7 ended. Search finished for the next optimal point.\n",
      "Time taken: 378.0481\n",
      "Function value obtained: -0.0190\n",
      "Current minimum: -0.0190\n",
      "Iteration No: 8 started. Searching for the next optimal point.\n",
      "SearchBayesianSkopt: Testing config: {'num_factors': 137, 'epochs': 30, 'alpha': 0.0825502001013137, 'reg': 0.001070562697754383}\n"
     ]
    },
    {
     "name": "stderr",
     "output_type": "stream",
     "text": [
      "100%|██████████| 30/30 [05:26<00:00, 10.88s/it]\n"
     ]
    },
    {
     "name": "stdout",
     "output_type": "stream",
     "text": [
      "EvaluatorHoldout: Processed 41629 (100.0%) in 34.01 sec. Users per second: 1224\n",
      "SearchBayesianSkopt: Config 7 is suboptimal. Config: {'num_factors': 137, 'epochs': 30, 'alpha': 0.0825502001013137, 'reg': 0.001070562697754383} - results: PRECISION: 0.0187489, PRECISION_RECALL_MIN_DEN: 0.0291000, RECALL: 0.0269791, MAP: 0.0083627, MAP_MIN_DEN: 0.0129874, MRR: 0.0667261, NDCG: 0.0288470, F1: 0.0221234, HIT_RATE: 0.1496793, ARHR_ALL_HITS: 0.0743756, NOVELTY: 0.0046043, AVERAGE_POPULARITY: 0.0698427, DIVERSITY_MEAN_INTER_LIST: 0.9488071, DIVERSITY_HERFINDAHL: 0.9948784, COVERAGE_ITEM: 0.0339087, COVERAGE_ITEM_HIT: 0.0187293, ITEMS_IN_GT: 0.9925736, COVERAGE_USER: 1.0000000, COVERAGE_USER_HIT: 0.1496793, USERS_IN_GT: 1.0000000, DIVERSITY_GINI: 0.0086710, SHANNON_ENTROPY: 8.1509705, RATIO_DIVERSITY_HERFINDAHL: 0.9952069, RATIO_DIVERSITY_GINI: 0.0170451, RATIO_SHANNON_ENTROPY: 0.6040490, RATIO_AVERAGE_POPULARITY: 1.3801051, RATIO_NOVELTY: 0.2634288, \n",
      "\n",
      "Iteration No: 8 ended. Search finished for the next optimal point.\n",
      "Time taken: 361.1300\n",
      "Function value obtained: -0.0084\n",
      "Current minimum: -0.0190\n",
      "Iteration No: 9 started. Searching for the next optimal point.\n",
      "SearchBayesianSkopt: Testing config: {'num_factors': 2, 'epochs': 30, 'alpha': 0.007661158573126355, 'reg': 0.0002929489853362013}\n"
     ]
    },
    {
     "name": "stderr",
     "output_type": "stream",
     "text": [
      "100%|██████████| 30/30 [00:05<00:00,  5.27it/s]\n"
     ]
    },
    {
     "name": "stdout",
     "output_type": "stream",
     "text": [
      "EvaluatorHoldout: Processed 41629 (100.0%) in 34.32 sec. Users per second: 1213\n",
      "SearchBayesianSkopt: Config 8 is suboptimal. Config: {'num_factors': 2, 'epochs': 30, 'alpha': 0.007661158573126355, 'reg': 0.0002929489853362013} - results: PRECISION: 0.0206539, PRECISION_RECALL_MIN_DEN: 0.0366429, RECALL: 0.0350543, MAP: 0.0090944, MAP_MIN_DEN: 0.0160969, MRR: 0.0742334, NDCG: 0.0344375, F1: 0.0259928, HIT_RATE: 0.1669990, ARHR_ALL_HITS: 0.0819004, NOVELTY: 0.0034843, AVERAGE_POPULARITY: 0.4718285, DIVERSITY_MEAN_INTER_LIST: 0.2372593, DIVERSITY_HERFINDAHL: 0.9237254, COVERAGE_ITEM: 0.0017138, COVERAGE_ITEM_HIT: 0.0015506, ITEMS_IN_GT: 0.9925736, COVERAGE_USER: 1.0000000, COVERAGE_USER_HIT: 0.1669990, USERS_IN_GT: 1.0000000, DIVERSITY_GINI: 0.0005372, SHANNON_ENTROPY: 3.9198469, RATIO_DIVERSITY_HERFINDAHL: 0.9240303, RATIO_DIVERSITY_GINI: 0.0010560, RATIO_SHANNON_ENTROPY: 0.2904905, RATIO_AVERAGE_POPULARITY: 9.3234203, RATIO_NOVELTY: 0.1993476, \n",
      "\n",
      "Iteration No: 9 ended. Search finished for the next optimal point.\n",
      "Time taken: 40.7979\n",
      "Function value obtained: -0.0091\n",
      "Current minimum: -0.0190\n",
      "Iteration No: 10 started. Searching for the next optimal point.\n",
      "SearchBayesianSkopt: Testing config: {'num_factors': 1, 'epochs': 30, 'alpha': 6.118598530602453, 'reg': 0.0070037819743638905}\n"
     ]
    },
    {
     "name": "stderr",
     "output_type": "stream",
     "text": [
      "100%|██████████| 30/30 [00:03<00:00,  8.07it/s]\n"
     ]
    },
    {
     "name": "stdout",
     "output_type": "stream",
     "text": [
      "EvaluatorHoldout: Processed 41629 (100.0%) in 34.35 sec. Users per second: 1212\n",
      "SearchBayesianSkopt: Config 9 is suboptimal. Config: {'num_factors': 1, 'epochs': 30, 'alpha': 6.118598530602453, 'reg': 0.0070037819743638905} - results: PRECISION: 0.0210694, PRECISION_RECALL_MIN_DEN: 0.0378623, RECALL: 0.0362405, MAP: 0.0094144, MAP_MIN_DEN: 0.0169275, MRR: 0.0793284, NDCG: 0.0360302, F1: 0.0266469, HIT_RATE: 0.1758870, ARHR_ALL_HITS: 0.0862674, NOVELTY: 0.0034288, AVERAGE_POPULARITY: 0.5064750, DIVERSITY_MEAN_INTER_LIST: 0.1635159, DIVERSITY_HERFINDAHL: 0.9163512, COVERAGE_ITEM: 0.0012241, COVERAGE_ITEM_HIT: 0.0011017, ITEMS_IN_GT: 0.9925736, COVERAGE_USER: 1.0000000, COVERAGE_USER_HIT: 0.1758870, USERS_IN_GT: 1.0000000, DIVERSITY_GINI: 0.0004993, SHANNON_ENTROPY: 3.6884486, RATIO_DIVERSITY_HERFINDAHL: 0.9166537, RATIO_DIVERSITY_GINI: 0.0009814, RATIO_SHANNON_ENTROPY: 0.2733421, RATIO_AVERAGE_POPULARITY: 10.0080420, RATIO_NOVELTY: 0.1961739, \n",
      "\n",
      "Iteration No: 10 ended. Search finished for the next optimal point.\n",
      "Time taken: 38.8736\n",
      "Function value obtained: -0.0094\n",
      "Current minimum: -0.0190\n",
      "SearchBayesianSkopt: Search complete. Best config is 6: {'num_factors': 200, 'epochs': 30, 'alpha': 8.447810208378677, 'reg': 1.000821776801401e-05}\n",
      "\n"
     ]
    }
   ],
   "source": [
    "hyperparameter_search.search(\n",
    "    recommender_input_args,\n",
    "    hyperparameter_search_space=hyperparameters_range_dictionary,\n",
    "    n_cases=n_cases,\n",
    "    n_random_starts=n_random_starts,\n",
    "    save_model=\"best\",\n",
    "    output_folder_path=output_folder_path,  # Where to save the results\n",
    "    output_file_name_root=recommender_class.RECOMMENDER_NAME,  # How to call the files\n",
    "    metric_to_optimize=metric_to_optimize,\n",
    "    cutoff_to_optimize=cutoff_to_optimize,\n",
    ")"
   ]
  },
  {
   "cell_type": "code",
   "execution_count": 5,
   "metadata": {},
   "outputs": [
    {
     "data": {
      "text/html": [
       "<div>\n",
       "<style scoped>\n",
       "    .dataframe tbody tr th:only-of-type {\n",
       "        vertical-align: middle;\n",
       "    }\n",
       "\n",
       "    .dataframe tbody tr th {\n",
       "        vertical-align: top;\n",
       "    }\n",
       "\n",
       "    .dataframe thead th {\n",
       "        text-align: right;\n",
       "    }\n",
       "</style>\n",
       "<table border=\"1\" class=\"dataframe\">\n",
       "  <thead>\n",
       "    <tr style=\"text-align: right;\">\n",
       "      <th></th>\n",
       "      <th></th>\n",
       "      <th>PRECISION</th>\n",
       "      <th>PRECISION_RECALL_MIN_DEN</th>\n",
       "      <th>RECALL</th>\n",
       "      <th>MAP</th>\n",
       "      <th>MAP_MIN_DEN</th>\n",
       "      <th>MRR</th>\n",
       "      <th>NDCG</th>\n",
       "      <th>F1</th>\n",
       "      <th>HIT_RATE</th>\n",
       "      <th>ARHR_ALL_HITS</th>\n",
       "      <th>...</th>\n",
       "      <th>COVERAGE_USER</th>\n",
       "      <th>COVERAGE_USER_HIT</th>\n",
       "      <th>USERS_IN_GT</th>\n",
       "      <th>DIVERSITY_GINI</th>\n",
       "      <th>SHANNON_ENTROPY</th>\n",
       "      <th>RATIO_DIVERSITY_HERFINDAHL</th>\n",
       "      <th>RATIO_DIVERSITY_GINI</th>\n",
       "      <th>RATIO_SHANNON_ENTROPY</th>\n",
       "      <th>RATIO_AVERAGE_POPULARITY</th>\n",
       "      <th>RATIO_NOVELTY</th>\n",
       "    </tr>\n",
       "    <tr>\n",
       "      <th></th>\n",
       "      <th>cutoff</th>\n",
       "      <th></th>\n",
       "      <th></th>\n",
       "      <th></th>\n",
       "      <th></th>\n",
       "      <th></th>\n",
       "      <th></th>\n",
       "      <th></th>\n",
       "      <th></th>\n",
       "      <th></th>\n",
       "      <th></th>\n",
       "      <th></th>\n",
       "      <th></th>\n",
       "      <th></th>\n",
       "      <th></th>\n",
       "      <th></th>\n",
       "      <th></th>\n",
       "      <th></th>\n",
       "      <th></th>\n",
       "      <th></th>\n",
       "      <th></th>\n",
       "      <th></th>\n",
       "    </tr>\n",
       "  </thead>\n",
       "  <tbody>\n",
       "    <tr>\n",
       "      <th>0</th>\n",
       "      <th>10</th>\n",
       "      <td>0.026611</td>\n",
       "      <td>0.04197</td>\n",
       "      <td>0.039293</td>\n",
       "      <td>0.01076</td>\n",
       "      <td>0.016498</td>\n",
       "      <td>0.081694</td>\n",
       "      <td>0.038263</td>\n",
       "      <td>0.031732</td>\n",
       "      <td>0.204569</td>\n",
       "      <td>0.093224</td>\n",
       "      <td>...</td>\n",
       "      <td>1.0</td>\n",
       "      <td>0.204569</td>\n",
       "      <td>1.0</td>\n",
       "      <td>0.003068</td>\n",
       "      <td>6.650265</td>\n",
       "      <td>0.987137</td>\n",
       "      <td>0.006032</td>\n",
       "      <td>0.492835</td>\n",
       "      <td>4.735497</td>\n",
       "      <td>0.223767</td>\n",
       "    </tr>\n",
       "    <tr>\n",
       "      <th>1</th>\n",
       "      <th>10</th>\n",
       "      <td>0.038516</td>\n",
       "      <td>0.062453</td>\n",
       "      <td>0.058918</td>\n",
       "      <td>0.018117</td>\n",
       "      <td>0.029396</td>\n",
       "      <td>0.133409</td>\n",
       "      <td>0.061555</td>\n",
       "      <td>0.046581</td>\n",
       "      <td>0.279565</td>\n",
       "      <td>0.1547</td>\n",
       "      <td>...</td>\n",
       "      <td>1.0</td>\n",
       "      <td>0.279565</td>\n",
       "      <td>1.0</td>\n",
       "      <td>0.014694</td>\n",
       "      <td>8.919342</td>\n",
       "      <td>0.997699</td>\n",
       "      <td>0.028884</td>\n",
       "      <td>0.660991</td>\n",
       "      <td>2.166516</td>\n",
       "      <td>0.252519</td>\n",
       "    </tr>\n",
       "    <tr>\n",
       "      <th>2</th>\n",
       "      <th>10</th>\n",
       "      <td>0.018213</td>\n",
       "      <td>0.028201</td>\n",
       "      <td>0.026139</td>\n",
       "      <td>0.00793</td>\n",
       "      <td>0.012244</td>\n",
       "      <td>0.063314</td>\n",
       "      <td>0.02757</td>\n",
       "      <td>0.021468</td>\n",
       "      <td>0.146364</td>\n",
       "      <td>0.070533</td>\n",
       "      <td>...</td>\n",
       "      <td>1.0</td>\n",
       "      <td>0.146364</td>\n",
       "      <td>1.0</td>\n",
       "      <td>0.007746</td>\n",
       "      <td>7.944076</td>\n",
       "      <td>0.993532</td>\n",
       "      <td>0.015227</td>\n",
       "      <td>0.588717</td>\n",
       "      <td>1.421661</td>\n",
       "      <td>0.262266</td>\n",
       "    </tr>\n",
       "    <tr>\n",
       "      <th>3</th>\n",
       "      <th>10</th>\n",
       "      <td>0.037983</td>\n",
       "      <td>0.061181</td>\n",
       "      <td>0.057608</td>\n",
       "      <td>0.017825</td>\n",
       "      <td>0.02873</td>\n",
       "      <td>0.130861</td>\n",
       "      <td>0.060309</td>\n",
       "      <td>0.045781</td>\n",
       "      <td>0.275793</td>\n",
       "      <td>0.151909</td>\n",
       "      <td>...</td>\n",
       "      <td>1.0</td>\n",
       "      <td>0.275793</td>\n",
       "      <td>1.0</td>\n",
       "      <td>0.014139</td>\n",
       "      <td>8.86072</td>\n",
       "      <td>0.997612</td>\n",
       "      <td>0.027793</td>\n",
       "      <td>0.656647</td>\n",
       "      <td>2.143871</td>\n",
       "      <td>0.252393</td>\n",
       "    </tr>\n",
       "    <tr>\n",
       "      <th>4</th>\n",
       "      <th>10</th>\n",
       "      <td>0.033813</td>\n",
       "      <td>0.059132</td>\n",
       "      <td>0.057032</td>\n",
       "      <td>0.013501</td>\n",
       "      <td>0.023764</td>\n",
       "      <td>0.104969</td>\n",
       "      <td>0.052433</td>\n",
       "      <td>0.042455</td>\n",
       "      <td>0.264143</td>\n",
       "      <td>0.11879</td>\n",
       "      <td>...</td>\n",
       "      <td>1.0</td>\n",
       "      <td>0.264143</td>\n",
       "      <td>1.0</td>\n",
       "      <td>0.009585</td>\n",
       "      <td>8.095687</td>\n",
       "      <td>0.99225</td>\n",
       "      <td>0.018843</td>\n",
       "      <td>0.599952</td>\n",
       "      <td>4.58166</td>\n",
       "      <td>0.233825</td>\n",
       "    </tr>\n",
       "    <tr>\n",
       "      <th>5</th>\n",
       "      <th>10</th>\n",
       "      <td>0.034538</td>\n",
       "      <td>0.057543</td>\n",
       "      <td>0.054841</td>\n",
       "      <td>0.014326</td>\n",
       "      <td>0.023994</td>\n",
       "      <td>0.110549</td>\n",
       "      <td>0.052952</td>\n",
       "      <td>0.042384</td>\n",
       "      <td>0.265008</td>\n",
       "      <td>0.125534</td>\n",
       "      <td>...</td>\n",
       "      <td>1.0</td>\n",
       "      <td>0.265008</td>\n",
       "      <td>1.0</td>\n",
       "      <td>0.019293</td>\n",
       "      <td>9.200977</td>\n",
       "      <td>0.99715</td>\n",
       "      <td>0.037925</td>\n",
       "      <td>0.681862</td>\n",
       "      <td>3.098018</td>\n",
       "      <td>0.24831</td>\n",
       "    </tr>\n",
       "    <tr>\n",
       "      <th>6</th>\n",
       "      <th>10</th>\n",
       "      <td>0.040863</td>\n",
       "      <td>0.067054</td>\n",
       "      <td>0.063694</td>\n",
       "      <td>0.018969</td>\n",
       "      <td>0.031475</td>\n",
       "      <td>0.139025</td>\n",
       "      <td>0.065481</td>\n",
       "      <td>0.049786</td>\n",
       "      <td>0.295395</td>\n",
       "      <td>0.161764</td>\n",
       "      <td>...</td>\n",
       "      <td>1.0</td>\n",
       "      <td>0.295395</td>\n",
       "      <td>1.0</td>\n",
       "      <td>0.0231</td>\n",
       "      <td>9.57374</td>\n",
       "      <td>0.99841</td>\n",
       "      <td>0.045408</td>\n",
       "      <td>0.709487</td>\n",
       "      <td>2.211297</td>\n",
       "      <td>0.257464</td>\n",
       "    </tr>\n",
       "    <tr>\n",
       "      <th>7</th>\n",
       "      <th>10</th>\n",
       "      <td>0.018749</td>\n",
       "      <td>0.0291</td>\n",
       "      <td>0.026979</td>\n",
       "      <td>0.008363</td>\n",
       "      <td>0.012987</td>\n",
       "      <td>0.066726</td>\n",
       "      <td>0.028847</td>\n",
       "      <td>0.022123</td>\n",
       "      <td>0.149679</td>\n",
       "      <td>0.074376</td>\n",
       "      <td>...</td>\n",
       "      <td>1.0</td>\n",
       "      <td>0.149679</td>\n",
       "      <td>1.0</td>\n",
       "      <td>0.008671</td>\n",
       "      <td>8.150971</td>\n",
       "      <td>0.995207</td>\n",
       "      <td>0.017045</td>\n",
       "      <td>0.604049</td>\n",
       "      <td>1.380105</td>\n",
       "      <td>0.263429</td>\n",
       "    </tr>\n",
       "    <tr>\n",
       "      <th>8</th>\n",
       "      <th>10</th>\n",
       "      <td>0.020654</td>\n",
       "      <td>0.036643</td>\n",
       "      <td>0.035054</td>\n",
       "      <td>0.009094</td>\n",
       "      <td>0.016097</td>\n",
       "      <td>0.074233</td>\n",
       "      <td>0.034438</td>\n",
       "      <td>0.025993</td>\n",
       "      <td>0.166999</td>\n",
       "      <td>0.0819</td>\n",
       "      <td>...</td>\n",
       "      <td>1.0</td>\n",
       "      <td>0.166999</td>\n",
       "      <td>1.0</td>\n",
       "      <td>0.000537</td>\n",
       "      <td>3.919847</td>\n",
       "      <td>0.92403</td>\n",
       "      <td>0.001056</td>\n",
       "      <td>0.290491</td>\n",
       "      <td>9.32342</td>\n",
       "      <td>0.199348</td>\n",
       "    </tr>\n",
       "    <tr>\n",
       "      <th>9</th>\n",
       "      <th>10</th>\n",
       "      <td>0.021069</td>\n",
       "      <td>0.037862</td>\n",
       "      <td>0.036241</td>\n",
       "      <td>0.009414</td>\n",
       "      <td>0.016927</td>\n",
       "      <td>0.079328</td>\n",
       "      <td>0.03603</td>\n",
       "      <td>0.026647</td>\n",
       "      <td>0.175887</td>\n",
       "      <td>0.086267</td>\n",
       "      <td>...</td>\n",
       "      <td>1.0</td>\n",
       "      <td>0.175887</td>\n",
       "      <td>1.0</td>\n",
       "      <td>0.000499</td>\n",
       "      <td>3.688449</td>\n",
       "      <td>0.916654</td>\n",
       "      <td>0.000981</td>\n",
       "      <td>0.273342</td>\n",
       "      <td>10.008042</td>\n",
       "      <td>0.196174</td>\n",
       "    </tr>\n",
       "  </tbody>\n",
       "</table>\n",
       "<p>10 rows × 27 columns</p>\n",
       "</div>"
      ],
      "text/plain": [
       "         PRECISION PRECISION_RECALL_MIN_DEN    RECALL       MAP MAP_MIN_DEN  \\\n",
       "  cutoff                                                                      \n",
       "0 10      0.026611                  0.04197  0.039293   0.01076    0.016498   \n",
       "1 10      0.038516                 0.062453  0.058918  0.018117    0.029396   \n",
       "2 10      0.018213                 0.028201  0.026139   0.00793    0.012244   \n",
       "3 10      0.037983                 0.061181  0.057608  0.017825     0.02873   \n",
       "4 10      0.033813                 0.059132  0.057032  0.013501    0.023764   \n",
       "5 10      0.034538                 0.057543  0.054841  0.014326    0.023994   \n",
       "6 10      0.040863                 0.067054  0.063694  0.018969    0.031475   \n",
       "7 10      0.018749                   0.0291  0.026979  0.008363    0.012987   \n",
       "8 10      0.020654                 0.036643  0.035054  0.009094    0.016097   \n",
       "9 10      0.021069                 0.037862  0.036241  0.009414    0.016927   \n",
       "\n",
       "               MRR      NDCG        F1  HIT_RATE ARHR_ALL_HITS  ...  \\\n",
       "  cutoff                                                        ...   \n",
       "0 10      0.081694  0.038263  0.031732  0.204569      0.093224  ...   \n",
       "1 10      0.133409  0.061555  0.046581  0.279565        0.1547  ...   \n",
       "2 10      0.063314   0.02757  0.021468  0.146364      0.070533  ...   \n",
       "3 10      0.130861  0.060309  0.045781  0.275793      0.151909  ...   \n",
       "4 10      0.104969  0.052433  0.042455  0.264143       0.11879  ...   \n",
       "5 10      0.110549  0.052952  0.042384  0.265008      0.125534  ...   \n",
       "6 10      0.139025  0.065481  0.049786  0.295395      0.161764  ...   \n",
       "7 10      0.066726  0.028847  0.022123  0.149679      0.074376  ...   \n",
       "8 10      0.074233  0.034438  0.025993  0.166999        0.0819  ...   \n",
       "9 10      0.079328   0.03603  0.026647  0.175887      0.086267  ...   \n",
       "\n",
       "         COVERAGE_USER COVERAGE_USER_HIT USERS_IN_GT DIVERSITY_GINI  \\\n",
       "  cutoff                                                              \n",
       "0 10               1.0          0.204569         1.0       0.003068   \n",
       "1 10               1.0          0.279565         1.0       0.014694   \n",
       "2 10               1.0          0.146364         1.0       0.007746   \n",
       "3 10               1.0          0.275793         1.0       0.014139   \n",
       "4 10               1.0          0.264143         1.0       0.009585   \n",
       "5 10               1.0          0.265008         1.0       0.019293   \n",
       "6 10               1.0          0.295395         1.0         0.0231   \n",
       "7 10               1.0          0.149679         1.0       0.008671   \n",
       "8 10               1.0          0.166999         1.0       0.000537   \n",
       "9 10               1.0          0.175887         1.0       0.000499   \n",
       "\n",
       "         SHANNON_ENTROPY RATIO_DIVERSITY_HERFINDAHL RATIO_DIVERSITY_GINI  \\\n",
       "  cutoff                                                                   \n",
       "0 10            6.650265                   0.987137             0.006032   \n",
       "1 10            8.919342                   0.997699             0.028884   \n",
       "2 10            7.944076                   0.993532             0.015227   \n",
       "3 10             8.86072                   0.997612             0.027793   \n",
       "4 10            8.095687                    0.99225             0.018843   \n",
       "5 10            9.200977                    0.99715             0.037925   \n",
       "6 10             9.57374                    0.99841             0.045408   \n",
       "7 10            8.150971                   0.995207             0.017045   \n",
       "8 10            3.919847                    0.92403             0.001056   \n",
       "9 10            3.688449                   0.916654             0.000981   \n",
       "\n",
       "         RATIO_SHANNON_ENTROPY RATIO_AVERAGE_POPULARITY RATIO_NOVELTY  \n",
       "  cutoff                                                               \n",
       "0 10                  0.492835                 4.735497      0.223767  \n",
       "1 10                  0.660991                 2.166516      0.252519  \n",
       "2 10                  0.588717                 1.421661      0.262266  \n",
       "3 10                  0.656647                 2.143871      0.252393  \n",
       "4 10                  0.599952                  4.58166      0.233825  \n",
       "5 10                  0.681862                 3.098018       0.24831  \n",
       "6 10                  0.709487                 2.211297      0.257464  \n",
       "7 10                  0.604049                 1.380105      0.263429  \n",
       "8 10                  0.290491                  9.32342      0.199348  \n",
       "9 10                  0.273342                10.008042      0.196174  \n",
       "\n",
       "[10 rows x 27 columns]"
      ]
     },
     "execution_count": 5,
     "metadata": {},
     "output_type": "execute_result"
    }
   ],
   "source": [
    "from Recommenders.DataIO import DataIO\n",
    "\n",
    "data_loader = DataIO(folder_path=output_folder_path)\n",
    "search_metadata = data_loader.load_data(\n",
    "    recommender_class.RECOMMENDER_NAME + \"_metadata.zip\"\n",
    ")\n",
    "\n",
    "result_on_validation_df = search_metadata[\"result_on_validation_df\"]\n",
    "result_on_validation_df"
   ]
  },
  {
   "cell_type": "code",
   "execution_count": 6,
   "metadata": {},
   "outputs": [
    {
     "data": {
      "text/html": [
       "<div>\n",
       "<style scoped>\n",
       "    .dataframe tbody tr th:only-of-type {\n",
       "        vertical-align: middle;\n",
       "    }\n",
       "\n",
       "    .dataframe tbody tr th {\n",
       "        vertical-align: top;\n",
       "    }\n",
       "\n",
       "    .dataframe thead th {\n",
       "        text-align: right;\n",
       "    }\n",
       "</style>\n",
       "<table border=\"1\" class=\"dataframe\">\n",
       "  <thead>\n",
       "    <tr style=\"text-align: right;\">\n",
       "      <th></th>\n",
       "      <th>num_factors</th>\n",
       "      <th>epochs</th>\n",
       "      <th>alpha</th>\n",
       "      <th>reg</th>\n",
       "    </tr>\n",
       "  </thead>\n",
       "  <tbody>\n",
       "    <tr>\n",
       "      <th>0</th>\n",
       "      <td>136</td>\n",
       "      <td>30</td>\n",
       "      <td>0.001758</td>\n",
       "      <td>0.000176</td>\n",
       "    </tr>\n",
       "    <tr>\n",
       "      <th>1</th>\n",
       "      <td>111</td>\n",
       "      <td>30</td>\n",
       "      <td>2.673332</td>\n",
       "      <td>0.001338</td>\n",
       "    </tr>\n",
       "    <tr>\n",
       "      <th>2</th>\n",
       "      <td>149</td>\n",
       "      <td>30</td>\n",
       "      <td>0.06126</td>\n",
       "      <td>0.006498</td>\n",
       "    </tr>\n",
       "    <tr>\n",
       "      <th>3</th>\n",
       "      <td>110</td>\n",
       "      <td>30</td>\n",
       "      <td>2.363987</td>\n",
       "      <td>0.001348</td>\n",
       "    </tr>\n",
       "    <tr>\n",
       "      <th>4</th>\n",
       "      <td>26</td>\n",
       "      <td>30</td>\n",
       "      <td>50.0</td>\n",
       "      <td>0.000027</td>\n",
       "    </tr>\n",
       "    <tr>\n",
       "      <th>5</th>\n",
       "      <td>159</td>\n",
       "      <td>30</td>\n",
       "      <td>44.624998</td>\n",
       "      <td>0.000012</td>\n",
       "    </tr>\n",
       "    <tr>\n",
       "      <th>6</th>\n",
       "      <td>200</td>\n",
       "      <td>30</td>\n",
       "      <td>8.44781</td>\n",
       "      <td>0.00001</td>\n",
       "    </tr>\n",
       "    <tr>\n",
       "      <th>7</th>\n",
       "      <td>137</td>\n",
       "      <td>30</td>\n",
       "      <td>0.08255</td>\n",
       "      <td>0.001071</td>\n",
       "    </tr>\n",
       "    <tr>\n",
       "      <th>8</th>\n",
       "      <td>2</td>\n",
       "      <td>30</td>\n",
       "      <td>0.007661</td>\n",
       "      <td>0.000293</td>\n",
       "    </tr>\n",
       "    <tr>\n",
       "      <th>9</th>\n",
       "      <td>1</td>\n",
       "      <td>30</td>\n",
       "      <td>6.118599</td>\n",
       "      <td>0.007004</td>\n",
       "    </tr>\n",
       "  </tbody>\n",
       "</table>\n",
       "</div>"
      ],
      "text/plain": [
       "  num_factors epochs      alpha       reg\n",
       "0         136     30   0.001758  0.000176\n",
       "1         111     30   2.673332  0.001338\n",
       "2         149     30    0.06126  0.006498\n",
       "3         110     30   2.363987  0.001348\n",
       "4          26     30       50.0  0.000027\n",
       "5         159     30  44.624998  0.000012\n",
       "6         200     30    8.44781   0.00001\n",
       "7         137     30    0.08255  0.001071\n",
       "8           2     30   0.007661  0.000293\n",
       "9           1     30   6.118599  0.007004"
      ]
     },
     "execution_count": 6,
     "metadata": {},
     "output_type": "execute_result"
    }
   ],
   "source": [
    "hyperparameters_df = search_metadata[\"hyperparameters_df\"]\n",
    "hyperparameters_df"
   ]
  },
  {
   "cell_type": "code",
   "execution_count": 7,
   "metadata": {},
   "outputs": [
    {
     "data": {
      "text/plain": [
       "{'num_factors': 200,\n",
       " 'epochs': 30,\n",
       " 'alpha': 8.447810208378677,\n",
       " 'reg': 1.000821776801401e-05}"
      ]
     },
     "execution_count": 7,
     "metadata": {},
     "output_type": "execute_result"
    }
   ],
   "source": [
    "best_hyperparameters = search_metadata[\"hyperparameters_best\"]\n",
    "best_hyperparameters"
   ]
  },
  {
   "cell_type": "code",
   "execution_count": 8,
   "metadata": {},
   "outputs": [
    {
     "data": {
      "text/plain": [
       "[None, None, None, None, None, None, None, None, None, None]"
      ]
     },
     "execution_count": 8,
     "metadata": {},
     "output_type": "execute_result"
    }
   ],
   "source": [
    "exception_list = search_metadata[\"exception_list\"]\n",
    "exception_list"
   ]
  },
  {
   "cell_type": "code",
   "execution_count": 9,
   "metadata": {},
   "outputs": [
    {
     "name": "stderr",
     "output_type": "stream",
     "text": [
      "100%|██████████| 30/30 [05:42<00:00, 11.42s/it]\n"
     ]
    },
    {
     "name": "stdout",
     "output_type": "stream",
     "text": [
      "IALSRecommenderImplicit: Saving model in file 'result_experiments/IALSRecommenderImplicit/IALSRecommenderImplicit_best_model_trained_on_everything.zip'\n",
      "IALSRecommenderImplicit: Saving complete\n"
     ]
    }
   ],
   "source": [
    "recommender = recommender_class(URM_all)\n",
    "recommender.fit(**best_hyperparameters)\n",
    "recommender.save_model(\n",
    "    folder_path=output_folder_path,\n",
    "    file_name=recommender_class.RECOMMENDER_NAME\n",
    "    + \"_best_model_trained_on_everything.zip\",\n",
    ")"
   ]
  },
  {
   "cell_type": "code",
   "execution_count": 11,
   "metadata": {},
   "outputs": [
    {
     "name": "stdout",
     "output_type": "stream",
     "text": [
      "Generating recomendations...\n"
     ]
    },
    {
     "ename": "IndexError",
     "evalue": "only integers, slices (`:`), ellipsis (`...`), numpy.newaxis (`None`) and integer or boolean arrays are valid indices",
     "output_type": "error",
     "traceback": [
      "\u001b[1;31m---------------------------------------------------------------------------\u001b[0m",
      "\u001b[1;31mIndexError\u001b[0m                                Traceback (most recent call last)",
      "Cell \u001b[1;32mIn[11], line 3\u001b[0m\n\u001b[0;32m      1\u001b[0m \u001b[39mfrom\u001b[39;00m \u001b[39mutils\u001b[39;00m\u001b[39m.\u001b[39;00m\u001b[39mcreate_submission\u001b[39;00m \u001b[39mimport\u001b[39;00m create_submission\n\u001b[1;32m----> 3\u001b[0m create_submission(recommender)\n",
      "File \u001b[1;32md:\\Developing\\RecSys_PoliMi_challenge_2020\\utils\\create_submission.py:37\u001b[0m, in \u001b[0;36mcreate_submission\u001b[1;34m(rec, data_path, output_path)\u001b[0m\n\u001b[0;32m     34\u001b[0m target_users \u001b[39m=\u001b[39m pd\u001b[39m.\u001b[39mread_csv(target_user_file, dtype\u001b[39m=\u001b[39m{\u001b[39m0\u001b[39m: \u001b[39m\"\u001b[39m\u001b[39mInt64\u001b[39m\u001b[39m\"\u001b[39m})[\u001b[39m\"\u001b[39m\u001b[39muser_id\u001b[39m\u001b[39m\"\u001b[39m]\u001b[39m.\u001b[39mvalues\n\u001b[0;32m     36\u001b[0m \u001b[39mprint\u001b[39m(\u001b[39m\"\u001b[39m\u001b[39mGenerating recomendations...\u001b[39m\u001b[39m\"\u001b[39m)\n\u001b[1;32m---> 37\u001b[0m recomendations \u001b[39m=\u001b[39m rec\u001b[39m.\u001b[39;49mrecommend(target_users, cutoff\u001b[39m=\u001b[39;49m\u001b[39m10\u001b[39;49m)\n\u001b[0;32m     39\u001b[0m now: \u001b[39mstr\u001b[39m \u001b[39m=\u001b[39m datetime\u001b[39m.\u001b[39mnow()\u001b[39m.\u001b[39mstrftime(\u001b[39m\"\u001b[39m\u001b[39m%\u001b[39m\u001b[39mY_\u001b[39m\u001b[39m%\u001b[39m\u001b[39mm_\u001b[39m\u001b[39m%d\u001b[39;00m\u001b[39m_\u001b[39m\u001b[39m%\u001b[39m\u001b[39mH_\u001b[39m\u001b[39m%\u001b[39m\u001b[39mM_\u001b[39m\u001b[39m%\u001b[39m\u001b[39mS\u001b[39m\u001b[39m\"\u001b[39m)\n\u001b[0;32m     40\u001b[0m output_file_name \u001b[39m=\u001b[39m \u001b[39mf\u001b[39m\u001b[39m\"\u001b[39m\u001b[39m{\u001b[39;00mrec\u001b[39m.\u001b[39mRECOMMENDER_NAME\u001b[39m}\u001b[39;00m\u001b[39m-\u001b[39m\u001b[39m{\u001b[39;00mnow\u001b[39m}\u001b[39;00m\u001b[39m.csv\u001b[39m\u001b[39m\"\u001b[39m\n",
      "File \u001b[1;32md:\\Developing\\RecSys_PoliMi_challenge_2020\\Recommenders\\BaseRecommender.py:147\u001b[0m, in \u001b[0;36mBaseRecommender.recommend\u001b[1;34m(self, user_id_array, cutoff, remove_seen_flag, items_to_compute, remove_top_pop_flag, remove_custom_items_flag, return_scores)\u001b[0m\n\u001b[0;32m    143\u001b[0m cutoff \u001b[39m=\u001b[39m \u001b[39mmin\u001b[39m(cutoff, \u001b[39mself\u001b[39m\u001b[39m.\u001b[39mURM_train\u001b[39m.\u001b[39mshape[\u001b[39m1\u001b[39m] \u001b[39m-\u001b[39m \u001b[39m1\u001b[39m)\n\u001b[0;32m    145\u001b[0m \u001b[39m# Compute the scores using the model-specific function\u001b[39;00m\n\u001b[0;32m    146\u001b[0m \u001b[39m# Vectorize over all users in user_id_array\u001b[39;00m\n\u001b[1;32m--> 147\u001b[0m scores_batch \u001b[39m=\u001b[39m \u001b[39mself\u001b[39;49m\u001b[39m.\u001b[39;49m_compute_item_score(user_id_array, items_to_compute\u001b[39m=\u001b[39;49mitems_to_compute)\n\u001b[0;32m    150\u001b[0m \u001b[39mfor\u001b[39;00m user_index \u001b[39min\u001b[39;00m \u001b[39mrange\u001b[39m(\u001b[39mlen\u001b[39m(user_id_array)):\n\u001b[0;32m    152\u001b[0m     user_id \u001b[39m=\u001b[39m user_id_array[user_index]\n",
      "File \u001b[1;32md:\\Developing\\RecSys_PoliMi_challenge_2020\\Recommenders\\MatrixFactorization\\IALSRecommenderImplicit.py:74\u001b[0m, in \u001b[0;36mIALSRecommenderImplicit._compute_item_score\u001b[1;34m(self, user_id_array, items_to_compute)\u001b[0m\n\u001b[0;32m     72\u001b[0m \u001b[39melse\u001b[39;00m:\n\u001b[0;32m     73\u001b[0m     item_factors_T \u001b[39m=\u001b[39m np\u001b[39m.\u001b[39mtranspose(\u001b[39mself\u001b[39m\u001b[39m.\u001b[39mITEM_factors)\n\u001b[1;32m---> 74\u001b[0m     user_factors \u001b[39m=\u001b[39m \u001b[39mself\u001b[39;49m\u001b[39m.\u001b[39;49mUSER_factors[user_id_array]\n\u001b[0;32m     75\u001b[0m     item_scores \u001b[39m=\u001b[39m np\u001b[39m.\u001b[39mdot(user_factors, item_factors_T)\n\u001b[0;32m     77\u001b[0m \u001b[39m# No need to select only the specific negative items or warm users because the -inf score will not change\u001b[39;00m\n",
      "\u001b[1;31mIndexError\u001b[0m: only integers, slices (`:`), ellipsis (`...`), numpy.newaxis (`None`) and integer or boolean arrays are valid indices"
     ]
    }
   ],
   "source": [
    "from utils.create_submission import create_submission\n",
    "\n",
    "create_submission(recommender)"
   ]
  }
 ],
 "metadata": {
  "kernelspec": {
   "display_name": "Python 3.10.6 ('.venv': poetry)",
   "language": "python",
   "name": "python3"
  },
  "language_info": {
   "codemirror_mode": {
    "name": "ipython",
    "version": 3
   },
   "file_extension": ".py",
   "mimetype": "text/x-python",
   "name": "python",
   "nbconvert_exporter": "python",
   "pygments_lexer": "ipython3",
   "version": "3.8.10"
  },
  "orig_nbformat": 4,
  "vscode": {
   "interpreter": {
    "hash": "4188b889b75fa04b540dc3b3d88b44a92f17011a3546136f7949774b76f654ae"
   }
  }
 },
 "nbformat": 4,
 "nbformat_minor": 2
}
