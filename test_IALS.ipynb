{
 "cells": [
  {
   "cell_type": "code",
   "execution_count": 6,
   "metadata": {},
   "outputs": [],
   "source": [
    "import os\n",
    "import random\n",
    "\n",
    "import numpy as np\n",
    "import pandas as pd\n",
    "import scipy.sparse as sps\n",
    "import matplotlib.pyplot as plt\n",
    "import seaborn as snb\n",
    "\n",
    "# Random seed for reproducibility\n",
    "SEED = 42\n",
    "random.seed(SEED)\n",
    "os.environ['PYTHONHASHSEED'] = str(SEED)\n",
    "np.random.seed(SEED)"
   ]
  },
  {
   "cell_type": "code",
   "execution_count": 7,
   "metadata": {},
   "outputs": [
    {
     "name": "stdout",
     "output_type": "stream",
     "text": [
      "Loading previusly generated splits...\n",
      "Generating explicit URM...\n"
     ]
    },
    {
     "ename": "ValueError",
     "evalue": "object dtype is not supported by sparse matrices",
     "output_type": "error",
     "traceback": [
      "\u001b[1;31m---------------------------------------------------------------------------\u001b[0m",
      "\u001b[1;31mValueError\u001b[0m                                Traceback (most recent call last)",
      "Cell \u001b[1;32mIn[7], line 7\u001b[0m\n\u001b[0;32m      5\u001b[0m dataset_train, dataset_val \u001b[39m=\u001b[39m dataset_splitter\u001b[39m.\u001b[39mload_train_val()\n\u001b[0;32m      6\u001b[0m URM_generator \u001b[39m=\u001b[39m URMGenerator(dataset_train, dataset_val)\n\u001b[1;32m----> 7\u001b[0m URM_train, URM_val \u001b[39m=\u001b[39m URM_generator\u001b[39m.\u001b[39;49mgenerate_explicit_URM()\n\u001b[0;32m      8\u001b[0m URM_all \u001b[39m=\u001b[39m URM_train \u001b[39m+\u001b[39m URM_val\n",
      "File \u001b[1;32md:\\Developing\\RecSys_PoliMi_challenge_2020\\data_manager\\URM_generator.py:47\u001b[0m, in \u001b[0;36mURMGenerator.generate_explicit_URM\u001b[1;34m(self, alpha, details_weight)\u001b[0m\n\u001b[0;32m     44\u001b[0m \u001b[39mif\u001b[39;00m details_weight \u001b[39m<\u001b[39m \u001b[39m0\u001b[39m \u001b[39mor\u001b[39;00m details_weight \u001b[39m>\u001b[39m \u001b[39m1\u001b[39m:\n\u001b[0;32m     45\u001b[0m     \u001b[39mraise\u001b[39;00m \u001b[39mValueError\u001b[39;00m(\u001b[39m\"\u001b[39m\u001b[39mURM_generator (generate_URM): details_weight must be in [0,1]\u001b[39m\u001b[39m\"\u001b[39m)\n\u001b[1;32m---> 47\u001b[0m URM_train \u001b[39m=\u001b[39m \u001b[39mself\u001b[39;49m\u001b[39m.\u001b[39;49m_geneate_explicit_split_URM(\u001b[39mself\u001b[39;49m\u001b[39m.\u001b[39;49mdataset_training, alpha, details_weight)\n\u001b[0;32m     48\u001b[0m URM_val \u001b[39m=\u001b[39m \u001b[39mself\u001b[39m\u001b[39m.\u001b[39m_geneate_explicit_split_URM(\u001b[39mself\u001b[39m\u001b[39m.\u001b[39mdataset_val, alpha, details_weight)\n\u001b[0;32m     50\u001b[0m \u001b[39mreturn\u001b[39;00m URM_train, URM_val\n",
      "File \u001b[1;32md:\\Developing\\RecSys_PoliMi_challenge_2020\\data_manager\\URM_generator.py:33\u001b[0m, in \u001b[0;36mURMGenerator._geneate_explicit_split_URM\u001b[1;34m(self, dataset, alpha, details_weight)\u001b[0m\n\u001b[0;32m     25\u001b[0m dataset[\u001b[39m\"\u001b[39m\u001b[39mdetails_ratings\u001b[39m\u001b[39m\"\u001b[39m] \u001b[39m=\u001b[39m dataset[\u001b[39m\"\u001b[39m\u001b[39mdetails_count\u001b[39m\u001b[39m\"\u001b[39m] \u001b[39m/\u001b[39m (\n\u001b[0;32m     26\u001b[0m     dataset[\u001b[39m\"\u001b[39m\u001b[39mdetails_count\u001b[39m\u001b[39m\"\u001b[39m] \u001b[39m+\u001b[39m alpha \u001b[39m*\u001b[39m dataset[\u001b[39m\"\u001b[39m\u001b[39mlength\u001b[39m\u001b[39m\"\u001b[39m]\n\u001b[0;32m     27\u001b[0m )\n\u001b[0;32m     28\u001b[0m dataset[\u001b[39m\"\u001b[39m\u001b[39mcombined_ratings\u001b[39m\u001b[39m\"\u001b[39m] \u001b[39m=\u001b[39m (\n\u001b[0;32m     29\u001b[0m     (\u001b[39m1\u001b[39m\u001b[39m-\u001b[39mdetails_weight) \u001b[39m*\u001b[39m dataset[\u001b[39m\"\u001b[39m\u001b[39mviews_ratings\u001b[39m\u001b[39m\"\u001b[39m]\n\u001b[0;32m     30\u001b[0m     \u001b[39m+\u001b[39m details_weight \u001b[39m*\u001b[39m dataset[\u001b[39m\"\u001b[39m\u001b[39mdetails_ratings\u001b[39m\u001b[39m\"\u001b[39m]\n\u001b[0;32m     31\u001b[0m )\n\u001b[1;32m---> 33\u001b[0m URM \u001b[39m=\u001b[39m sps\u001b[39m.\u001b[39;49mcoo_matrix(\n\u001b[0;32m     34\u001b[0m     (\n\u001b[0;32m     35\u001b[0m         dataset[\u001b[39m\"\u001b[39;49m\u001b[39mcombined_ratings\u001b[39;49m\u001b[39m\"\u001b[39;49m]\u001b[39m.\u001b[39;49mvalues,\n\u001b[0;32m     36\u001b[0m         (dataset[\u001b[39m\"\u001b[39;49m\u001b[39muser_id\u001b[39;49m\u001b[39m\"\u001b[39;49m]\u001b[39m.\u001b[39;49mvalues, dataset[\u001b[39m\"\u001b[39;49m\u001b[39mitem_id\u001b[39;49m\u001b[39m\"\u001b[39;49m]\u001b[39m.\u001b[39;49mvalues),\n\u001b[0;32m     37\u001b[0m     ),\n\u001b[0;32m     38\u001b[0m     shape\u001b[39m=\u001b[39;49m(\u001b[39mself\u001b[39;49m\u001b[39m.\u001b[39;49mn_users, \u001b[39mself\u001b[39;49m\u001b[39m.\u001b[39;49mn_items)\n\u001b[0;32m     39\u001b[0m )\n\u001b[0;32m     40\u001b[0m \u001b[39mreturn\u001b[39;00m URM\n",
      "File \u001b[1;32md:\\Developing\\RecSys_PoliMi_challenge_2020\\.venv\\lib\\site-packages\\scipy\\sparse\\_coo.py:160\u001b[0m, in \u001b[0;36mcoo_matrix.__init__\u001b[1;34m(self, arg1, shape, dtype, copy)\u001b[0m\n\u001b[0;32m    158\u001b[0m         \u001b[39mself\u001b[39m\u001b[39m.\u001b[39mrow \u001b[39m=\u001b[39m np\u001b[39m.\u001b[39marray(row, copy\u001b[39m=\u001b[39mcopy, dtype\u001b[39m=\u001b[39midx_dtype)\n\u001b[0;32m    159\u001b[0m         \u001b[39mself\u001b[39m\u001b[39m.\u001b[39mcol \u001b[39m=\u001b[39m np\u001b[39m.\u001b[39marray(col, copy\u001b[39m=\u001b[39mcopy, dtype\u001b[39m=\u001b[39midx_dtype)\n\u001b[1;32m--> 160\u001b[0m         \u001b[39mself\u001b[39m\u001b[39m.\u001b[39mdata \u001b[39m=\u001b[39m getdata(obj, copy\u001b[39m=\u001b[39;49mcopy, dtype\u001b[39m=\u001b[39;49mdtype)\n\u001b[0;32m    161\u001b[0m         \u001b[39mself\u001b[39m\u001b[39m.\u001b[39mhas_canonical_format \u001b[39m=\u001b[39m \u001b[39mFalse\u001b[39;00m\n\u001b[0;32m    162\u001b[0m \u001b[39melse\u001b[39;00m:\n",
      "File \u001b[1;32md:\\Developing\\RecSys_PoliMi_challenge_2020\\.venv\\lib\\site-packages\\scipy\\sparse\\_sputils.py:141\u001b[0m, in \u001b[0;36mgetdata\u001b[1;34m(obj, dtype, copy)\u001b[0m\n\u001b[0;32m    138\u001b[0m data \u001b[39m=\u001b[39m np\u001b[39m.\u001b[39marray(obj, dtype\u001b[39m=\u001b[39mdtype, copy\u001b[39m=\u001b[39mcopy)\n\u001b[0;32m    139\u001b[0m \u001b[39m# Defer to getdtype for checking that the dtype is OK.\u001b[39;00m\n\u001b[0;32m    140\u001b[0m \u001b[39m# This is called for the validation only; we don't need the return value.\u001b[39;00m\n\u001b[1;32m--> 141\u001b[0m getdtype(data\u001b[39m.\u001b[39;49mdtype)\n\u001b[0;32m    142\u001b[0m \u001b[39mreturn\u001b[39;00m data\n",
      "File \u001b[1;32md:\\Developing\\RecSys_PoliMi_challenge_2020\\.venv\\lib\\site-packages\\scipy\\sparse\\_sputils.py:126\u001b[0m, in \u001b[0;36mgetdtype\u001b[1;34m(dtype, a, default)\u001b[0m\n\u001b[0;32m    124\u001b[0m     newdtype \u001b[39m=\u001b[39m np\u001b[39m.\u001b[39mdtype(dtype)\n\u001b[0;32m    125\u001b[0m     \u001b[39mif\u001b[39;00m newdtype \u001b[39m==\u001b[39m np\u001b[39m.\u001b[39mobject_:\n\u001b[1;32m--> 126\u001b[0m         \u001b[39mraise\u001b[39;00m \u001b[39mValueError\u001b[39;00m(\n\u001b[0;32m    127\u001b[0m             \u001b[39m\"\u001b[39m\u001b[39mobject dtype is not supported by sparse matrices\u001b[39m\u001b[39m\"\u001b[39m\n\u001b[0;32m    128\u001b[0m         )\n\u001b[0;32m    130\u001b[0m \u001b[39mreturn\u001b[39;00m newdtype\n",
      "\u001b[1;31mValueError\u001b[0m: object dtype is not supported by sparse matrices"
     ]
    }
   ],
   "source": [
    "from data_manager import DatasetLoader, DatasetSplitter, URMGenerator\n",
    "\n",
    "dataset_loader = DatasetLoader()\n",
    "dataset_splitter = DatasetSplitter(dataset_loader)\n",
    "dataset_train, dataset_val = dataset_splitter.load_train_val()\n",
    "URM_generator = URMGenerator(dataset_train, dataset_val)\n",
    "URM_train, URM_val = URM_generator.generate_explicit_URM()\n",
    "URM_all = URM_train + URM_val"
   ]
  },
  {
   "cell_type": "code",
   "execution_count": null,
   "metadata": {},
   "outputs": [],
   "source": [
    "from evaluation.evaluator import EvaluatorHoldout\n",
    "\n",
    "evaluator = EvaluatorHoldout(URM_val, cutoff_list=[10])"
   ]
  },
  {
   "cell_type": "code",
   "execution_count": 4,
   "metadata": {},
   "outputs": [],
   "source": [
    "from Recommenders.MatrixFactorization.IALSRecommender import (\n",
    "    IALSRecommender,\n",
    ")\n",
    "from skopt.space import Real, Integer, Categorical\n",
    "from HyperparameterTuning.SearchBayesianSkopt import SearchBayesianSkopt\n",
    "from HyperparameterTuning.SearchAbstractClass import SearchInputRecommenderArgs\n",
    "\n",
    "output_folder_path = \"result_experiments/IALSRecommender/\"\n",
    "recommender_class = IALSRecommender\n",
    "n_cases = 10\n",
    "n_random_starts = int(n_cases * 0.3)\n",
    "metric_to_optimize = \"MAP\"\n",
    "cutoff_to_optimize = 10\n",
    "\n",
    "# If directory does not exist, create\n",
    "if not os.path.exists(output_folder_path):\n",
    "    os.makedirs(output_folder_path)\n",
    "\n",
    "# Define hyperparameters\n",
    "hyperparameters_range_dictionary = {\n",
    "    \"num_factors\": Integer(1, 200),\n",
    "    \"epochs\": Categorical([300]),\n",
    "    \"confidence_scaling\": Categorical([\"linear\", \"log\"]),\n",
    "    \"alpha\": Real(low=1e-3, high=50.0, prior=\"log-uniform\"),\n",
    "    \"epsilon\": Real(low=1e-3, high=10.0, prior=\"log-uniform\"),\n",
    "    \"reg\": Real(low=1e-5, high=1e-2, prior=\"log-uniform\"),\n",
    "}\n",
    "\n",
    "hyperparameter_search = SearchBayesianSkopt(\n",
    "    recommender_class,\n",
    "    evaluator_validation=evaluator,\n",
    ")\n",
    "\n",
    "recommender_input_args = SearchInputRecommenderArgs(\n",
    "    CONSTRUCTOR_POSITIONAL_ARGS=[\n",
    "        URM_train,\n",
    "    ],\n",
    "    CONSTRUCTOR_KEYWORD_ARGS={},\n",
    "    FIT_POSITIONAL_ARGS=[],\n",
    "    FIT_KEYWORD_ARGS={},\n",
    "    EARLYSTOPPING_KEYWORD_ARGS={},\n",
    ")\n"
   ]
  },
  {
   "cell_type": "code",
   "execution_count": null,
   "metadata": {},
   "outputs": [
    {
     "name": "stdout",
     "output_type": "stream",
     "text": [
      "Iteration No: 1 started. Evaluating function at random point.\n",
      "SearchBayesianSkopt: Testing config: {'num_factors': 116, 'epochs': 300, 'confidence_scaling': 'log', 'alpha': 0.007639672839788821, 'epsilon': 0.02570397424946322, 'reg': 0.004316111244636997}\n"
     ]
    },
    {
     "ename": "KeyboardInterrupt",
     "evalue": "",
     "output_type": "error",
     "traceback": [
      "\u001b[1;31m---------------------------------------------------------------------------\u001b[0m",
      "\u001b[1;31mKeyboardInterrupt\u001b[0m                         Traceback (most recent call last)",
      "Cell \u001b[1;32mIn[5], line 1\u001b[0m\n\u001b[1;32m----> 1\u001b[0m hyperparameter_search\u001b[39m.\u001b[39;49msearch(\n\u001b[0;32m      2\u001b[0m     recommender_input_args,\n\u001b[0;32m      3\u001b[0m     hyperparameter_search_space\u001b[39m=\u001b[39;49mhyperparameters_range_dictionary,\n\u001b[0;32m      4\u001b[0m     n_cases\u001b[39m=\u001b[39;49mn_cases,\n\u001b[0;32m      5\u001b[0m     n_random_starts\u001b[39m=\u001b[39;49mn_random_starts,\n\u001b[0;32m      6\u001b[0m     save_model\u001b[39m=\u001b[39;49m\u001b[39m\"\u001b[39;49m\u001b[39mbest\u001b[39;49m\u001b[39m\"\u001b[39;49m,\n\u001b[0;32m      7\u001b[0m     output_folder_path\u001b[39m=\u001b[39;49moutput_folder_path,  \u001b[39m# Where to save the results\u001b[39;49;00m\n\u001b[0;32m      8\u001b[0m     output_file_name_root\u001b[39m=\u001b[39;49mrecommender_class\u001b[39m.\u001b[39;49mRECOMMENDER_NAME,  \u001b[39m# How to call the files\u001b[39;49;00m\n\u001b[0;32m      9\u001b[0m     metric_to_optimize\u001b[39m=\u001b[39;49mmetric_to_optimize,\n\u001b[0;32m     10\u001b[0m     cutoff_to_optimize\u001b[39m=\u001b[39;49mcutoff_to_optimize,\n\u001b[0;32m     11\u001b[0m )\n",
      "File \u001b[1;32md:\\Developing\\RecSys_PoliMi_challenge_2020\\HyperparameterTuning\\SearchBayesianSkopt.py:436\u001b[0m, in \u001b[0;36mSearchBayesianSkopt.search\u001b[1;34m(self, recommender_input_args, hyperparameter_search_space, metric_to_optimize, cutoff_to_optimize, n_cases, n_random_starts, output_folder_path, output_file_name_root, save_model, save_metadata, resume_from_saved, recommender_input_args_last_test, evaluate_on_test, max_total_time, terminate_on_memory_error)\u001b[0m\n\u001b[0;32m    430\u001b[0m         \u001b[39mself\u001b[39m\u001b[39m.\u001b[39mn_loaded_counter \u001b[39m=\u001b[39m \u001b[39mself\u001b[39m\u001b[39m.\u001b[39mmodel_counter\n\u001b[0;32m    432\u001b[0m     \u001b[39mif\u001b[39;00m \u001b[39mself\u001b[39m\u001b[39m.\u001b[39mn_calls \u001b[39m-\u001b[39m \u001b[39mself\u001b[39m\u001b[39m.\u001b[39mmodel_counter \u001b[39m>\u001b[39m \u001b[39m0\u001b[39m:\n\u001b[0;32m    433\u001b[0m         \u001b[39m# When resuming an incomplete search the gp_minimize will continue to tell you \"Evaluating function at random point\" instead\u001b[39;00m\n\u001b[0;32m    434\u001b[0m         \u001b[39m# of \"Searching for the next optimal point\". This may be due to a bug in the print rather than the underlying process\u001b[39;00m\n\u001b[0;32m    435\u001b[0m         \u001b[39m# https://github.com/scikit-optimize/scikit-optimize/issues/949\u001b[39;00m\n\u001b[1;32m--> 436\u001b[0m         \u001b[39mself\u001b[39m\u001b[39m.\u001b[39mresult \u001b[39m=\u001b[39m gp_minimize(\n\u001b[0;32m    437\u001b[0m             \u001b[39mself\u001b[39;49m\u001b[39m.\u001b[39;49m_objective_function_list_input,\n\u001b[0;32m    438\u001b[0m             \u001b[39mself\u001b[39;49m\u001b[39m.\u001b[39;49mhyperparams_values,\n\u001b[0;32m    439\u001b[0m             base_estimator\u001b[39m=\u001b[39;49m\u001b[39mNone\u001b[39;49;00m,\n\u001b[0;32m    440\u001b[0m             n_calls\u001b[39m=\u001b[39;49m\u001b[39mmax\u001b[39;49m(\u001b[39m0\u001b[39;49m, \u001b[39mself\u001b[39;49m\u001b[39m.\u001b[39;49mn_calls \u001b[39m-\u001b[39;49m \u001b[39mself\u001b[39;49m\u001b[39m.\u001b[39;49mmodel_counter),\n\u001b[0;32m    441\u001b[0m             n_initial_points\u001b[39m=\u001b[39;49m\u001b[39mmax\u001b[39;49m(\u001b[39m0\u001b[39;49m, \u001b[39mself\u001b[39;49m\u001b[39m.\u001b[39;49mn_random_starts \u001b[39m-\u001b[39;49m \u001b[39mself\u001b[39;49m\u001b[39m.\u001b[39;49mmodel_counter),\n\u001b[0;32m    442\u001b[0m             initial_point_generator\u001b[39m=\u001b[39;49m\u001b[39m\"\u001b[39;49m\u001b[39mrandom\u001b[39;49m\u001b[39m\"\u001b[39;49m,\n\u001b[0;32m    443\u001b[0m             acq_func\u001b[39m=\u001b[39;49m\u001b[39mself\u001b[39;49m\u001b[39m.\u001b[39;49macq_func,\n\u001b[0;32m    444\u001b[0m             acq_optimizer\u001b[39m=\u001b[39;49m\u001b[39mself\u001b[39;49m\u001b[39m.\u001b[39;49macq_optimizer,\n\u001b[0;32m    445\u001b[0m             x0\u001b[39m=\u001b[39;49m\u001b[39mself\u001b[39;49m\u001b[39m.\u001b[39;49mx0,\n\u001b[0;32m    446\u001b[0m             y0\u001b[39m=\u001b[39;49m\u001b[39mself\u001b[39;49m\u001b[39m.\u001b[39;49my0,\n\u001b[0;32m    447\u001b[0m             random_state\u001b[39m=\u001b[39;49m\u001b[39mself\u001b[39;49m\u001b[39m.\u001b[39;49mrandom_state,\n\u001b[0;32m    448\u001b[0m             verbose\u001b[39m=\u001b[39;49m\u001b[39mself\u001b[39;49m\u001b[39m.\u001b[39;49mverbose,\n\u001b[0;32m    449\u001b[0m             callback\u001b[39m=\u001b[39;49m\u001b[39mNone\u001b[39;49;00m,\n\u001b[0;32m    450\u001b[0m             n_points\u001b[39m=\u001b[39;49m\u001b[39mself\u001b[39;49m\u001b[39m.\u001b[39;49mn_point,\n\u001b[0;32m    451\u001b[0m             n_restarts_optimizer\u001b[39m=\u001b[39;49m\u001b[39mself\u001b[39;49m\u001b[39m.\u001b[39;49mn_restarts_optimizer,\n\u001b[0;32m    452\u001b[0m             xi\u001b[39m=\u001b[39;49m\u001b[39mself\u001b[39;49m\u001b[39m.\u001b[39;49mxi,\n\u001b[0;32m    453\u001b[0m             kappa\u001b[39m=\u001b[39;49m\u001b[39mself\u001b[39;49m\u001b[39m.\u001b[39;49mkappa,\n\u001b[0;32m    454\u001b[0m             noise\u001b[39m=\u001b[39;49m\u001b[39mself\u001b[39;49m\u001b[39m.\u001b[39;49mnoise,\n\u001b[0;32m    455\u001b[0m             n_jobs\u001b[39m=\u001b[39;49m\u001b[39mself\u001b[39;49m\u001b[39m.\u001b[39;49mn_jobs,\n\u001b[0;32m    456\u001b[0m         )\n\u001b[0;32m    458\u001b[0m \u001b[39mexcept\u001b[39;00m \u001b[39mValueError\u001b[39;00m \u001b[39mas\u001b[39;00m e:\n\u001b[0;32m    459\u001b[0m     traceback\u001b[39m.\u001b[39mprint_exc()\n",
      "File \u001b[1;32md:\\Developing\\RecSys_PoliMi_challenge_2020\\.venv\\lib\\site-packages\\skopt\\optimizer\\gp.py:259\u001b[0m, in \u001b[0;36mgp_minimize\u001b[1;34m(func, dimensions, base_estimator, n_calls, n_random_starts, n_initial_points, initial_point_generator, acq_func, acq_optimizer, x0, y0, random_state, verbose, callback, n_points, n_restarts_optimizer, xi, kappa, noise, n_jobs, model_queue_size)\u001b[0m\n\u001b[0;32m    254\u001b[0m \u001b[39mif\u001b[39;00m base_estimator \u001b[39mis\u001b[39;00m \u001b[39mNone\u001b[39;00m:\n\u001b[0;32m    255\u001b[0m     base_estimator \u001b[39m=\u001b[39m cook_estimator(\n\u001b[0;32m    256\u001b[0m         \u001b[39m\"\u001b[39m\u001b[39mGP\u001b[39m\u001b[39m\"\u001b[39m, space\u001b[39m=\u001b[39mspace, random_state\u001b[39m=\u001b[39mrng\u001b[39m.\u001b[39mrandint(\u001b[39m0\u001b[39m, np\u001b[39m.\u001b[39miinfo(np\u001b[39m.\u001b[39mint32)\u001b[39m.\u001b[39mmax),\n\u001b[0;32m    257\u001b[0m         noise\u001b[39m=\u001b[39mnoise)\n\u001b[1;32m--> 259\u001b[0m \u001b[39mreturn\u001b[39;00m base_minimize(\n\u001b[0;32m    260\u001b[0m     func, space, base_estimator\u001b[39m=\u001b[39;49mbase_estimator,\n\u001b[0;32m    261\u001b[0m     acq_func\u001b[39m=\u001b[39;49macq_func,\n\u001b[0;32m    262\u001b[0m     xi\u001b[39m=\u001b[39;49mxi, kappa\u001b[39m=\u001b[39;49mkappa, acq_optimizer\u001b[39m=\u001b[39;49macq_optimizer, n_calls\u001b[39m=\u001b[39;49mn_calls,\n\u001b[0;32m    263\u001b[0m     n_points\u001b[39m=\u001b[39;49mn_points, n_random_starts\u001b[39m=\u001b[39;49mn_random_starts,\n\u001b[0;32m    264\u001b[0m     n_initial_points\u001b[39m=\u001b[39;49mn_initial_points,\n\u001b[0;32m    265\u001b[0m     initial_point_generator\u001b[39m=\u001b[39;49minitial_point_generator,\n\u001b[0;32m    266\u001b[0m     n_restarts_optimizer\u001b[39m=\u001b[39;49mn_restarts_optimizer,\n\u001b[0;32m    267\u001b[0m     x0\u001b[39m=\u001b[39;49mx0, y0\u001b[39m=\u001b[39;49my0, random_state\u001b[39m=\u001b[39;49mrng, verbose\u001b[39m=\u001b[39;49mverbose,\n\u001b[0;32m    268\u001b[0m     callback\u001b[39m=\u001b[39;49mcallback, n_jobs\u001b[39m=\u001b[39;49mn_jobs, model_queue_size\u001b[39m=\u001b[39;49mmodel_queue_size)\n",
      "File \u001b[1;32md:\\Developing\\RecSys_PoliMi_challenge_2020\\.venv\\lib\\site-packages\\skopt\\optimizer\\base.py:299\u001b[0m, in \u001b[0;36mbase_minimize\u001b[1;34m(func, dimensions, base_estimator, n_calls, n_random_starts, n_initial_points, initial_point_generator, acq_func, acq_optimizer, x0, y0, random_state, verbose, callback, n_points, n_restarts_optimizer, xi, kappa, n_jobs, model_queue_size)\u001b[0m\n\u001b[0;32m    297\u001b[0m \u001b[39mfor\u001b[39;00m n \u001b[39min\u001b[39;00m \u001b[39mrange\u001b[39m(n_calls):\n\u001b[0;32m    298\u001b[0m     next_x \u001b[39m=\u001b[39m optimizer\u001b[39m.\u001b[39mask()\n\u001b[1;32m--> 299\u001b[0m     next_y \u001b[39m=\u001b[39m func(next_x)\n\u001b[0;32m    300\u001b[0m     result \u001b[39m=\u001b[39m optimizer\u001b[39m.\u001b[39mtell(next_x, next_y)\n\u001b[0;32m    301\u001b[0m     result\u001b[39m.\u001b[39mspecs \u001b[39m=\u001b[39m specs\n",
      "File \u001b[1;32md:\\Developing\\RecSys_PoliMi_challenge_2020\\HyperparameterTuning\\SearchBayesianSkopt.py:538\u001b[0m, in \u001b[0;36mSearchBayesianSkopt._objective_function_list_input\u001b[1;34m(self, current_fit_hyperparameters_list_of_values)\u001b[0m\n\u001b[0;32m    531\u001b[0m         \u001b[39mraise\u001b[39;00m \u001b[39mTimeoutError\u001b[39;00m(\n\u001b[0;32m    532\u001b[0m             \u001b[39mself\u001b[39m\u001b[39m.\u001b[39mmax_total_time, total_current_time \u001b[39m+\u001b[39m estimated_last_time\n\u001b[0;32m    533\u001b[0m         )\n\u001b[0;32m    535\u001b[0m current_fit_hyperparameters_dict \u001b[39m=\u001b[39m \u001b[39mdict\u001b[39m(\n\u001b[0;32m    536\u001b[0m     \u001b[39mzip\u001b[39m(\u001b[39mself\u001b[39m\u001b[39m.\u001b[39mhyperparams_names, current_fit_hyperparameters_list_of_values)\n\u001b[0;32m    537\u001b[0m )\n\u001b[1;32m--> 538\u001b[0m result \u001b[39m=\u001b[39m \u001b[39mself\u001b[39;49m\u001b[39m.\u001b[39;49m_objective_function(current_fit_hyperparameters_dict)\n\u001b[0;32m    540\u001b[0m \u001b[39m# The search can only progress if there is at least a valid config in the initial random start\u001b[39;00m\n\u001b[0;32m    541\u001b[0m \u001b[39mif\u001b[39;00m (\n\u001b[0;32m    542\u001b[0m     \u001b[39mself\u001b[39m\u001b[39m.\u001b[39mmetadata_dict[\u001b[39m\"\u001b[39m\u001b[39mresult_on_validation_df\u001b[39m\u001b[39m\"\u001b[39m] \u001b[39mis\u001b[39;00m \u001b[39mNone\u001b[39;00m\n\u001b[0;32m    543\u001b[0m     \u001b[39mand\u001b[39;00m \u001b[39mself\u001b[39m\u001b[39m.\u001b[39mmodel_counter \u001b[39m>\u001b[39m\u001b[39m=\u001b[39m \u001b[39mself\u001b[39m\u001b[39m.\u001b[39mn_random_starts\n\u001b[0;32m    544\u001b[0m ):\n",
      "File \u001b[1;32md:\\Developing\\RecSys_PoliMi_challenge_2020\\HyperparameterTuning\\SearchAbstractClass.py:729\u001b[0m, in \u001b[0;36mSearchAbstractClass._objective_function\u001b[1;34m(self, current_fit_hyperparameters_dict)\u001b[0m\n\u001b[0;32m    722\u001b[0m             recommender_instance\u001b[39m.\u001b[39msave_model(\n\u001b[0;32m    723\u001b[0m                 \u001b[39mself\u001b[39m\u001b[39m.\u001b[39moutput_folder_path,\n\u001b[0;32m    724\u001b[0m                 file_name\u001b[39m=\u001b[39m\u001b[39mself\u001b[39m\u001b[39m.\u001b[39moutput_file_name_root \u001b[39m+\u001b[39m \u001b[39m\"\u001b[39m\u001b[39m_best_model\u001b[39m\u001b[39m\"\u001b[39m,\n\u001b[0;32m    725\u001b[0m             )\n\u001b[0;32m    727\u001b[0m \u001b[39mexcept\u001b[39;00m (\u001b[39mKeyboardInterrupt\u001b[39;00m, \u001b[39mSystemExit\u001b[39;00m) \u001b[39mas\u001b[39;00m e:\n\u001b[0;32m    728\u001b[0m     \u001b[39m# If getting a interrupt, terminate without saving the exception\u001b[39;00m\n\u001b[1;32m--> 729\u001b[0m     \u001b[39mraise\u001b[39;00m e\n\u001b[0;32m    731\u001b[0m \u001b[39m# Catch exception only if terminate_on_memory_error is True\u001b[39;00m\n\u001b[0;32m    732\u001b[0m \u001b[39mexcept\u001b[39;00m MEMORY_ERROR_EXCEPTION_TUPLE \u001b[39mif\u001b[39;00m \u001b[39mself\u001b[39m\u001b[39m.\u001b[39mterminate_on_memory_error \u001b[39melse\u001b[39;00m (\n\u001b[0;32m    733\u001b[0m     NeverMatch\n\u001b[0;32m    734\u001b[0m ) \u001b[39mas\u001b[39;00m e:\n",
      "File \u001b[1;32md:\\Developing\\RecSys_PoliMi_challenge_2020\\HyperparameterTuning\\SearchAbstractClass.py:604\u001b[0m, in \u001b[0;36mSearchAbstractClass._objective_function\u001b[1;34m(self, current_fit_hyperparameters_dict)\u001b[0m\n\u001b[0;32m    594\u001b[0m \u001b[39mself\u001b[39m\u001b[39m.\u001b[39m_print(\n\u001b[0;32m    595\u001b[0m     \u001b[39m\"\u001b[39m\u001b[39m{}\u001b[39;00m\u001b[39m: Testing config: \u001b[39m\u001b[39m{}\u001b[39;00m\u001b[39m\"\u001b[39m\u001b[39m.\u001b[39mformat(\n\u001b[0;32m    596\u001b[0m         \u001b[39mself\u001b[39m\u001b[39m.\u001b[39mALGORITHM_NAME, current_fit_hyperparameters_dict\n\u001b[0;32m    597\u001b[0m     )\n\u001b[0;32m    598\u001b[0m )\n\u001b[0;32m    600\u001b[0m (\n\u001b[0;32m    601\u001b[0m     was_already_evaluated_flag,\n\u001b[0;32m    602\u001b[0m     was_already_evaluated_index,\n\u001b[0;32m    603\u001b[0m ) \u001b[39m=\u001b[39m \u001b[39mself\u001b[39m\u001b[39m.\u001b[39m_was_already_evaluated_check(current_fit_hyperparameters_dict)\n\u001b[1;32m--> 604\u001b[0m result_df, recommender_instance \u001b[39m=\u001b[39m \u001b[39mself\u001b[39;49m\u001b[39m.\u001b[39;49m_evaluate_on_validation(\n\u001b[0;32m    605\u001b[0m     current_fit_hyperparameters_dict,\n\u001b[0;32m    606\u001b[0m     was_already_evaluated_flag,\n\u001b[0;32m    607\u001b[0m     was_already_evaluated_index,\n\u001b[0;32m    608\u001b[0m )\n\u001b[0;32m    610\u001b[0m result_series \u001b[39m=\u001b[39m result_df\u001b[39m.\u001b[39mloc[\u001b[39mself\u001b[39m\u001b[39m.\u001b[39mmetadata_dict[\u001b[39m\"\u001b[39m\u001b[39mcutoff_to_optimize\u001b[39m\u001b[39m\"\u001b[39m]]\n\u001b[0;32m    611\u001b[0m current_result \u001b[39m=\u001b[39m \u001b[39m-\u001b[39mresult_series[\u001b[39mself\u001b[39m\u001b[39m.\u001b[39mmetric_to_optimize]\n",
      "File \u001b[1;32md:\\Developing\\RecSys_PoliMi_challenge_2020\\HyperparameterTuning\\SearchAbstractClass.py:357\u001b[0m, in \u001b[0;36mSearchAbstractClass._evaluate_on_validation\u001b[1;34m(self, current_fit_hyperparameters, was_already_evaluated_flag, was_already_evaluated_index)\u001b[0m\n\u001b[0;32m    352\u001b[0m \u001b[39mfor\u001b[39;00m key \u001b[39min\u001b[39;00m current_fit_hyperparameters\u001b[39m.\u001b[39mkeys():\n\u001b[0;32m    353\u001b[0m     \u001b[39mself\u001b[39m\u001b[39m.\u001b[39mmetadata_dict[\u001b[39m\"\u001b[39m\u001b[39mhyperparameters_df\u001b[39m\u001b[39m\"\u001b[39m]\u001b[39m.\u001b[39mloc[\n\u001b[0;32m    354\u001b[0m         \u001b[39mself\u001b[39m\u001b[39m.\u001b[39mmodel_counter, key\n\u001b[0;32m    355\u001b[0m     ] \u001b[39m=\u001b[39m current_fit_hyperparameters[key]\n\u001b[1;32m--> 357\u001b[0m recommender_instance, train_time \u001b[39m=\u001b[39m \u001b[39mself\u001b[39;49m\u001b[39m.\u001b[39;49m_fit_model(\n\u001b[0;32m    358\u001b[0m     current_fit_hyperparameters\n\u001b[0;32m    359\u001b[0m )\n\u001b[0;32m    360\u001b[0m start_time \u001b[39m=\u001b[39m time\u001b[39m.\u001b[39mtime()\n\u001b[0;32m    362\u001b[0m \u001b[39m# Evaluate recommender and get results for the first cutoff\u001b[39;00m\n",
      "File \u001b[1;32md:\\Developing\\RecSys_PoliMi_challenge_2020\\HyperparameterTuning\\SearchAbstractClass.py:321\u001b[0m, in \u001b[0;36mSearchAbstractClass._fit_model\u001b[1;34m(self, current_fit_hyperparameters)\u001b[0m\n\u001b[0;32m    315\u001b[0m \u001b[39m# Construct a new recommender instance\u001b[39;00m\n\u001b[0;32m    316\u001b[0m recommender_instance \u001b[39m=\u001b[39m \u001b[39mself\u001b[39m\u001b[39m.\u001b[39mrecommender_class(\n\u001b[0;32m    317\u001b[0m     \u001b[39m*\u001b[39m\u001b[39mself\u001b[39m\u001b[39m.\u001b[39mrecommender_input_args\u001b[39m.\u001b[39mCONSTRUCTOR_POSITIONAL_ARGS,\n\u001b[0;32m    318\u001b[0m     \u001b[39m*\u001b[39m\u001b[39m*\u001b[39m\u001b[39mself\u001b[39m\u001b[39m.\u001b[39mrecommender_input_args\u001b[39m.\u001b[39mCONSTRUCTOR_KEYWORD_ARGS\n\u001b[0;32m    319\u001b[0m )\n\u001b[1;32m--> 321\u001b[0m recommender_instance\u001b[39m.\u001b[39;49mfit(\n\u001b[0;32m    322\u001b[0m     \u001b[39m*\u001b[39;49m\u001b[39mself\u001b[39;49m\u001b[39m.\u001b[39;49mrecommender_input_args\u001b[39m.\u001b[39;49mFIT_POSITIONAL_ARGS,\n\u001b[0;32m    323\u001b[0m     \u001b[39m*\u001b[39;49m\u001b[39m*\u001b[39;49m\u001b[39mself\u001b[39;49m\u001b[39m.\u001b[39;49mrecommender_input_args\u001b[39m.\u001b[39;49mFIT_KEYWORD_ARGS,\n\u001b[0;32m    324\u001b[0m     \u001b[39m*\u001b[39;49m\u001b[39m*\u001b[39;49m\u001b[39mself\u001b[39;49m\u001b[39m.\u001b[39;49mrecommender_input_args\u001b[39m.\u001b[39;49mEARLYSTOPPING_KEYWORD_ARGS,\n\u001b[0;32m    325\u001b[0m     \u001b[39m*\u001b[39;49m\u001b[39m*\u001b[39;49mcurrent_fit_hyperparameters\n\u001b[0;32m    326\u001b[0m )\n\u001b[0;32m    328\u001b[0m train_time \u001b[39m=\u001b[39m time\u001b[39m.\u001b[39mtime() \u001b[39m-\u001b[39m start_time\n\u001b[0;32m    330\u001b[0m \u001b[39mreturn\u001b[39;00m recommender_instance, train_time\n",
      "File \u001b[1;32md:\\Developing\\RecSys_PoliMi_challenge_2020\\Recommenders\\MatrixFactorization\\IALSRecommender.py:88\u001b[0m, in \u001b[0;36mIALSRecommender.fit\u001b[1;34m(self, epochs, num_factors, confidence_scaling, alpha, epsilon, reg, init_mean, init_std, **earlystopping_kwargs)\u001b[0m\n\u001b[0;32m     84\u001b[0m \u001b[39mself\u001b[39m\u001b[39m.\u001b[39mregularization_diagonal \u001b[39m=\u001b[39m np\u001b[39m.\u001b[39mdiag(\u001b[39mself\u001b[39m\u001b[39m.\u001b[39mreg \u001b[39m*\u001b[39m np\u001b[39m.\u001b[39mones(\u001b[39mself\u001b[39m\u001b[39m.\u001b[39mnum_factors))\n\u001b[0;32m     86\u001b[0m \u001b[39mself\u001b[39m\u001b[39m.\u001b[39m_update_best_model()\n\u001b[1;32m---> 88\u001b[0m \u001b[39mself\u001b[39;49m\u001b[39m.\u001b[39;49m_train_with_early_stopping(epochs,\n\u001b[0;32m     89\u001b[0m                                 algorithm_name \u001b[39m=\u001b[39;49m \u001b[39mself\u001b[39;49m\u001b[39m.\u001b[39;49mRECOMMENDER_NAME,\n\u001b[0;32m     90\u001b[0m                                 \u001b[39m*\u001b[39;49m\u001b[39m*\u001b[39;49mearlystopping_kwargs)\n\u001b[0;32m     93\u001b[0m \u001b[39mself\u001b[39m\u001b[39m.\u001b[39mUSER_factors \u001b[39m=\u001b[39m \u001b[39mself\u001b[39m\u001b[39m.\u001b[39mUSER_factors_best\n\u001b[0;32m     94\u001b[0m \u001b[39mself\u001b[39m\u001b[39m.\u001b[39mITEM_factors \u001b[39m=\u001b[39m \u001b[39mself\u001b[39m\u001b[39m.\u001b[39mITEM_factors_best\n",
      "File \u001b[1;32md:\\Developing\\RecSys_PoliMi_challenge_2020\\Recommenders\\Incremental_Training_Early_Stopping.py:199\u001b[0m, in \u001b[0;36mIncremental_Training_Early_Stopping._train_with_early_stopping\u001b[1;34m(self, epochs_max, epochs_min, validation_every_n, stop_on_validation, validation_metric, lower_validations_allowed, evaluator_object, algorithm_name)\u001b[0m\n\u001b[0;32m    195\u001b[0m epochs_current \u001b[39m=\u001b[39m \u001b[39m0\u001b[39m\n\u001b[0;32m    197\u001b[0m \u001b[39mwhile\u001b[39;00m epochs_current \u001b[39m<\u001b[39m epochs_max \u001b[39mand\u001b[39;00m \u001b[39mnot\u001b[39;00m convergence:\n\u001b[1;32m--> 199\u001b[0m     \u001b[39mself\u001b[39;49m\u001b[39m.\u001b[39;49m_run_epoch(epochs_current)\n\u001b[0;32m    201\u001b[0m     \u001b[39m# If no validation required, always keep the latest\u001b[39;00m\n\u001b[0;32m    202\u001b[0m     \u001b[39mif\u001b[39;00m evaluator_object \u001b[39mis\u001b[39;00m \u001b[39mNone\u001b[39;00m:\n",
      "File \u001b[1;32md:\\Developing\\RecSys_PoliMi_challenge_2020\\Recommenders\\MatrixFactorization\\IALSRecommender.py:152\u001b[0m, in \u001b[0;36mIALSRecommender._run_epoch\u001b[1;34m(self, num_epoch)\u001b[0m\n\u001b[0;32m    149\u001b[0m     user_profile \u001b[39m=\u001b[39m \u001b[39mself\u001b[39m\u001b[39m.\u001b[39mC\u001b[39m.\u001b[39mindices[start_pos:end_pos]\n\u001b[0;32m    150\u001b[0m     user_confidence \u001b[39m=\u001b[39m \u001b[39mself\u001b[39m\u001b[39m.\u001b[39mC\u001b[39m.\u001b[39mdata[start_pos:end_pos]\n\u001b[1;32m--> 152\u001b[0m     \u001b[39mself\u001b[39m\u001b[39m.\u001b[39mUSER_factors[user_id, :] \u001b[39m=\u001b[39m \u001b[39mself\u001b[39;49m\u001b[39m.\u001b[39;49m_update_row(user_profile, user_confidence, \u001b[39mself\u001b[39;49m\u001b[39m.\u001b[39;49mITEM_factors, VV)\n\u001b[0;32m    154\u001b[0m \u001b[39m# fit item factors\u001b[39;00m\n\u001b[0;32m    155\u001b[0m \u001b[39m# UU = n_factors x n_factors\u001b[39;00m\n\u001b[0;32m    156\u001b[0m UU \u001b[39m=\u001b[39m \u001b[39mself\u001b[39m\u001b[39m.\u001b[39mUSER_factors\u001b[39m.\u001b[39mT\u001b[39m.\u001b[39mdot(\u001b[39mself\u001b[39m\u001b[39m.\u001b[39mUSER_factors)\n",
      "File \u001b[1;32md:\\Developing\\RecSys_PoliMi_challenge_2020\\Recommenders\\MatrixFactorization\\IALSRecommender.py:201\u001b[0m, in \u001b[0;36mIALSRecommender._update_row\u001b[1;34m(self, interaction_profile, interaction_confidence, Y, YtY)\u001b[0m\n\u001b[0;32m    197\u001b[0m A \u001b[39m=\u001b[39m Y_interactions\u001b[39m.\u001b[39mT\u001b[39m.\u001b[39mdot(((interaction_confidence \u001b[39m-\u001b[39m \u001b[39m1\u001b[39m) \u001b[39m*\u001b[39m Y_interactions\u001b[39m.\u001b[39mT)\u001b[39m.\u001b[39mT)\n\u001b[0;32m    199\u001b[0m B \u001b[39m=\u001b[39m YtY \u001b[39m+\u001b[39m A \u001b[39m+\u001b[39m \u001b[39mself\u001b[39m\u001b[39m.\u001b[39mregularization_diagonal\n\u001b[1;32m--> 201\u001b[0m \u001b[39mreturn\u001b[39;00m np\u001b[39m.\u001b[39mdot(np\u001b[39m.\u001b[39;49mlinalg\u001b[39m.\u001b[39;49minv(B), Y_interactions\u001b[39m.\u001b[39mT\u001b[39m.\u001b[39mdot(interaction_confidence))\n",
      "File \u001b[1;32m<__array_function__ internals>:180\u001b[0m, in \u001b[0;36minv\u001b[1;34m(*args, **kwargs)\u001b[0m\n",
      "File \u001b[1;32md:\\Developing\\RecSys_PoliMi_challenge_2020\\.venv\\lib\\site-packages\\numpy\\linalg\\linalg.py:552\u001b[0m, in \u001b[0;36minv\u001b[1;34m(a)\u001b[0m\n\u001b[0;32m    550\u001b[0m signature \u001b[39m=\u001b[39m \u001b[39m'\u001b[39m\u001b[39mD->D\u001b[39m\u001b[39m'\u001b[39m \u001b[39mif\u001b[39;00m isComplexType(t) \u001b[39melse\u001b[39;00m \u001b[39m'\u001b[39m\u001b[39md->d\u001b[39m\u001b[39m'\u001b[39m\n\u001b[0;32m    551\u001b[0m extobj \u001b[39m=\u001b[39m get_linalg_error_extobj(_raise_linalgerror_singular)\n\u001b[1;32m--> 552\u001b[0m ainv \u001b[39m=\u001b[39m _umath_linalg\u001b[39m.\u001b[39;49minv(a, signature\u001b[39m=\u001b[39;49msignature, extobj\u001b[39m=\u001b[39;49mextobj)\n\u001b[0;32m    553\u001b[0m \u001b[39mreturn\u001b[39;00m wrap(ainv\u001b[39m.\u001b[39mastype(result_t, copy\u001b[39m=\u001b[39m\u001b[39mFalse\u001b[39;00m))\n",
      "\u001b[1;31mKeyboardInterrupt\u001b[0m: "
     ]
    }
   ],
   "source": [
    "hyperparameter_search.search(\n",
    "    recommender_input_args,\n",
    "    hyperparameter_search_space=hyperparameters_range_dictionary,\n",
    "    n_cases=n_cases,\n",
    "    n_random_starts=n_random_starts,\n",
    "    save_model=\"best\",\n",
    "    output_folder_path=output_folder_path,  # Where to save the results\n",
    "    output_file_name_root=recommender_class.RECOMMENDER_NAME,  # How to call the files\n",
    "    metric_to_optimize=metric_to_optimize,\n",
    "    cutoff_to_optimize=cutoff_to_optimize,\n",
    ")"
   ]
  },
  {
   "cell_type": "code",
   "execution_count": 6,
   "metadata": {},
   "outputs": [],
   "source": [
    "from Recommenders.DataIO import DataIO\n",
    "\n",
    "data_loader = DataIO(folder_path=output_folder_path)\n",
    "search_metadata = data_loader.load_data(\n",
    "    recommender_class.RECOMMENDER_NAME + \"_metadata.zip\"\n",
    ")\n",
    "\n",
    "result_on_validation_df = search_metadata[\"result_on_validation_df\"]\n",
    "result_on_validation_df"
   ]
  },
  {
   "cell_type": "code",
   "execution_count": 7,
   "metadata": {},
   "outputs": [
    {
     "data": {
      "text/html": [
       "<div>\n",
       "<style scoped>\n",
       "    .dataframe tbody tr th:only-of-type {\n",
       "        vertical-align: middle;\n",
       "    }\n",
       "\n",
       "    .dataframe tbody tr th {\n",
       "        vertical-align: top;\n",
       "    }\n",
       "\n",
       "    .dataframe thead th {\n",
       "        text-align: right;\n",
       "    }\n",
       "</style>\n",
       "<table border=\"1\" class=\"dataframe\">\n",
       "  <thead>\n",
       "    <tr style=\"text-align: right;\">\n",
       "      <th></th>\n",
       "      <th>topK</th>\n",
       "      <th>epochs</th>\n",
       "      <th>symmetric</th>\n",
       "      <th>sgd_mode</th>\n",
       "      <th>lambda_i</th>\n",
       "      <th>lambda_j</th>\n",
       "      <th>learning_rate</th>\n",
       "    </tr>\n",
       "  </thead>\n",
       "  <tbody>\n",
       "    <tr>\n",
       "      <th>0</th>\n",
       "      <td>166</td>\n",
       "      <td>1499</td>\n",
       "      <td>True</td>\n",
       "      <td>adam</td>\n",
       "      <td>0.000124</td>\n",
       "      <td>0.001693</td>\n",
       "      <td>0.000103</td>\n",
       "    </tr>\n",
       "    <tr>\n",
       "      <th>1</th>\n",
       "      <td>1324</td>\n",
       "      <td>1499</td>\n",
       "      <td>False</td>\n",
       "      <td>adagrad</td>\n",
       "      <td>0.000032</td>\n",
       "      <td>0.006309</td>\n",
       "      <td>0.016491</td>\n",
       "    </tr>\n",
       "    <tr>\n",
       "      <th>2</th>\n",
       "      <td>1191</td>\n",
       "      <td>1499</td>\n",
       "      <td>False</td>\n",
       "      <td>adam</td>\n",
       "      <td>0.002197</td>\n",
       "      <td>0.000027</td>\n",
       "      <td>0.00117</td>\n",
       "    </tr>\n",
       "    <tr>\n",
       "      <th>3</th>\n",
       "      <td>NaN</td>\n",
       "      <td>NaN</td>\n",
       "      <td>NaN</td>\n",
       "      <td>NaN</td>\n",
       "      <td>NaN</td>\n",
       "      <td>NaN</td>\n",
       "      <td>NaN</td>\n",
       "    </tr>\n",
       "    <tr>\n",
       "      <th>4</th>\n",
       "      <td>NaN</td>\n",
       "      <td>NaN</td>\n",
       "      <td>NaN</td>\n",
       "      <td>NaN</td>\n",
       "      <td>NaN</td>\n",
       "      <td>NaN</td>\n",
       "      <td>NaN</td>\n",
       "    </tr>\n",
       "    <tr>\n",
       "      <th>5</th>\n",
       "      <td>NaN</td>\n",
       "      <td>NaN</td>\n",
       "      <td>NaN</td>\n",
       "      <td>NaN</td>\n",
       "      <td>NaN</td>\n",
       "      <td>NaN</td>\n",
       "      <td>NaN</td>\n",
       "    </tr>\n",
       "    <tr>\n",
       "      <th>6</th>\n",
       "      <td>NaN</td>\n",
       "      <td>NaN</td>\n",
       "      <td>NaN</td>\n",
       "      <td>NaN</td>\n",
       "      <td>NaN</td>\n",
       "      <td>NaN</td>\n",
       "      <td>NaN</td>\n",
       "    </tr>\n",
       "    <tr>\n",
       "      <th>7</th>\n",
       "      <td>NaN</td>\n",
       "      <td>NaN</td>\n",
       "      <td>NaN</td>\n",
       "      <td>NaN</td>\n",
       "      <td>NaN</td>\n",
       "      <td>NaN</td>\n",
       "      <td>NaN</td>\n",
       "    </tr>\n",
       "    <tr>\n",
       "      <th>8</th>\n",
       "      <td>NaN</td>\n",
       "      <td>NaN</td>\n",
       "      <td>NaN</td>\n",
       "      <td>NaN</td>\n",
       "      <td>NaN</td>\n",
       "      <td>NaN</td>\n",
       "      <td>NaN</td>\n",
       "    </tr>\n",
       "    <tr>\n",
       "      <th>9</th>\n",
       "      <td>NaN</td>\n",
       "      <td>NaN</td>\n",
       "      <td>NaN</td>\n",
       "      <td>NaN</td>\n",
       "      <td>NaN</td>\n",
       "      <td>NaN</td>\n",
       "      <td>NaN</td>\n",
       "    </tr>\n",
       "  </tbody>\n",
       "</table>\n",
       "</div>"
      ],
      "text/plain": [
       "   topK epochs symmetric sgd_mode  lambda_i  lambda_j learning_rate\n",
       "0   166   1499      True     adam  0.000124  0.001693      0.000103\n",
       "1  1324   1499     False  adagrad  0.000032  0.006309      0.016491\n",
       "2  1191   1499     False     adam  0.002197  0.000027       0.00117\n",
       "3   NaN    NaN       NaN      NaN       NaN       NaN           NaN\n",
       "4   NaN    NaN       NaN      NaN       NaN       NaN           NaN\n",
       "5   NaN    NaN       NaN      NaN       NaN       NaN           NaN\n",
       "6   NaN    NaN       NaN      NaN       NaN       NaN           NaN\n",
       "7   NaN    NaN       NaN      NaN       NaN       NaN           NaN\n",
       "8   NaN    NaN       NaN      NaN       NaN       NaN           NaN\n",
       "9   NaN    NaN       NaN      NaN       NaN       NaN           NaN"
      ]
     },
     "execution_count": 7,
     "metadata": {},
     "output_type": "execute_result"
    }
   ],
   "source": [
    "hyperparameters_df = search_metadata[\"hyperparameters_df\"]\n",
    "hyperparameters_df"
   ]
  },
  {
   "cell_type": "code",
   "execution_count": 8,
   "metadata": {},
   "outputs": [],
   "source": [
    "best_hyperparameters = search_metadata[\"hyperparameters_best\"]\n",
    "best_hyperparameters"
   ]
  },
  {
   "cell_type": "code",
   "execution_count": 9,
   "metadata": {},
   "outputs": [
    {
     "data": {
      "text/plain": [
       "['Traceback (most recent call last):\\n  File \"d:\\\\Developing\\\\RecSys_PoliMi_challenge_2020\\\\HyperparameterTuning\\\\SearchAbstractClass.py\", line 604, in _objective_function\\n    result_df, recommender_instance = self._evaluate_on_validation(\\n  File \"d:\\\\Developing\\\\RecSys_PoliMi_challenge_2020\\\\HyperparameterTuning\\\\SearchAbstractClass.py\", line 395, in _evaluate_on_validation\\n    self.model_counter: recommender_instance.get_validation_summary_table()\\n  File \"d:\\\\Developing\\\\RecSys_PoliMi_challenge_2020\\\\Recommenders\\\\Incremental_Training_Early_Stopping.py\", line 110, in get_validation_summary_table\\n    return self._earlystopping_validation_summary_df.copy()\\nAttributeError: \\'NoneType\\' object has no attribute \\'copy\\'\\n',\n",
       " 'Traceback (most recent call last):\\n  File \"d:\\\\Developing\\\\RecSys_PoliMi_challenge_2020\\\\HyperparameterTuning\\\\SearchAbstractClass.py\", line 604, in _objective_function\\n    result_df, recommender_instance = self._evaluate_on_validation(\\n  File \"d:\\\\Developing\\\\RecSys_PoliMi_challenge_2020\\\\HyperparameterTuning\\\\SearchAbstractClass.py\", line 395, in _evaluate_on_validation\\n    self.model_counter: recommender_instance.get_validation_summary_table()\\n  File \"d:\\\\Developing\\\\RecSys_PoliMi_challenge_2020\\\\Recommenders\\\\Incremental_Training_Early_Stopping.py\", line 110, in get_validation_summary_table\\n    return self._earlystopping_validation_summary_df.copy()\\nAttributeError: \\'NoneType\\' object has no attribute \\'copy\\'\\n',\n",
       " 'Traceback (most recent call last):\\n  File \"d:\\\\Developing\\\\RecSys_PoliMi_challenge_2020\\\\HyperparameterTuning\\\\SearchAbstractClass.py\", line 604, in _objective_function\\n    result_df, recommender_instance = self._evaluate_on_validation(\\n  File \"d:\\\\Developing\\\\RecSys_PoliMi_challenge_2020\\\\HyperparameterTuning\\\\SearchAbstractClass.py\", line 395, in _evaluate_on_validation\\n    self.model_counter: recommender_instance.get_validation_summary_table()\\n  File \"d:\\\\Developing\\\\RecSys_PoliMi_challenge_2020\\\\Recommenders\\\\Incremental_Training_Early_Stopping.py\", line 110, in get_validation_summary_table\\n    return self._earlystopping_validation_summary_df.copy()\\nAttributeError: \\'NoneType\\' object has no attribute \\'copy\\'\\n',\n",
       " None,\n",
       " None,\n",
       " None,\n",
       " None,\n",
       " None,\n",
       " None,\n",
       " None]"
      ]
     },
     "execution_count": 9,
     "metadata": {},
     "output_type": "execute_result"
    }
   ],
   "source": [
    "exception_list = search_metadata[\"exception_list\"]\n",
    "exception_list"
   ]
  },
  {
   "cell_type": "code",
   "execution_count": 10,
   "metadata": {},
   "outputs": [
    {
     "ename": "TypeError",
     "evalue": "fit() argument after ** must be a mapping, not NoneType",
     "output_type": "error",
     "traceback": [
      "\u001b[1;31m---------------------------------------------------------------------------\u001b[0m",
      "\u001b[1;31mTypeError\u001b[0m                                 Traceback (most recent call last)",
      "Cell \u001b[1;32mIn[10], line 2\u001b[0m\n\u001b[0;32m      1\u001b[0m recommender \u001b[39m=\u001b[39m recommender_class(URM_all)\n\u001b[1;32m----> 2\u001b[0m recommender\u001b[39m.\u001b[39;49mfit(\u001b[39m*\u001b[39;49m\u001b[39m*\u001b[39;49mbest_hyperparameters)\n\u001b[0;32m      3\u001b[0m recommender\u001b[39m.\u001b[39msave_model(\n\u001b[0;32m      4\u001b[0m     folder_path\u001b[39m=\u001b[39mrecommender_class,\n\u001b[0;32m      5\u001b[0m     file_name\u001b[39m=\u001b[39mrecommender_class\u001b[39m.\u001b[39mRECOMMENDER_NAME\n\u001b[0;32m      6\u001b[0m     \u001b[39m+\u001b[39m \u001b[39m\"\u001b[39m\u001b[39m_best_model_trained_on_everything.zip\u001b[39m\u001b[39m\"\u001b[39m,\n\u001b[0;32m      7\u001b[0m )\n",
      "\u001b[1;31mTypeError\u001b[0m: fit() argument after ** must be a mapping, not NoneType"
     ]
    }
   ],
   "source": [
    "recommender = recommender_class(URM_all)\n",
    "recommender.fit(**best_hyperparameters)\n",
    "recommender.save_model(\n",
    "    folder_path=output_folder_path,\n",
    "    file_name=recommender_class.RECOMMENDER_NAME\n",
    "    + \"_best_model_trained_on_everything.zip\",\n",
    ")"
   ]
  },
  {
   "cell_type": "code",
   "execution_count": null,
   "metadata": {},
   "outputs": [],
   "source": [
    "from utils.create_submission import create_submission\n",
    "\n",
    "create_submission(recommender)"
   ]
  }
 ],
 "metadata": {
  "kernelspec": {
   "display_name": "Python 3.10.6 ('.venv': poetry)",
   "language": "python",
   "name": "python3"
  },
  "language_info": {
   "codemirror_mode": {
    "name": "ipython",
    "version": 3
   },
   "file_extension": ".py",
   "mimetype": "text/x-python",
   "name": "python",
   "nbconvert_exporter": "python",
   "pygments_lexer": "ipython3",
   "version": "3.8.10 (tags/v3.8.10:3d8993a, May  3 2021, 11:48:03) [MSC v.1928 64 bit (AMD64)]"
  },
  "orig_nbformat": 4,
  "vscode": {
   "interpreter": {
    "hash": "4188b889b75fa04b540dc3b3d88b44a92f17011a3546136f7949774b76f654ae"
   }
  }
 },
 "nbformat": 4,
 "nbformat_minor": 2
}
