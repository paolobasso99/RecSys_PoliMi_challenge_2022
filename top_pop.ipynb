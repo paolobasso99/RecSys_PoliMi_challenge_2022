{
 "cells": [
  {
   "cell_type": "markdown",
   "metadata": {},
   "source": [
    "# Top popular\n",
    "This recomender uses the top popular strategy."
   ]
  },
  {
   "cell_type": "markdown",
   "metadata": {},
   "source": [
    "### Libraries and seed"
   ]
  },
  {
   "cell_type": "code",
   "execution_count": 1,
   "metadata": {},
   "outputs": [],
   "source": [
    "import os\n",
    "import random\n",
    "\n",
    "import numpy as np\n",
    "import pandas as pd\n",
    "import scipy.sparse as sps\n",
    "import matplotlib.pyplot as pyplot\n",
    "\n",
    "from sklearn.model_selection import train_test_split\n",
    "\n",
    "# Random seed for reproducibility\n",
    "seed = 42\n",
    "\n",
    "random.seed(seed)\n",
    "os.environ['PYTHONHASHSEED'] = str(seed)\n",
    "np.random.seed(seed)"
   ]
  },
  {
   "cell_type": "markdown",
   "metadata": {},
   "source": [
    "### Load data"
   ]
  },
  {
   "cell_type": "code",
   "execution_count": 2,
   "metadata": {},
   "outputs": [],
   "source": [
    "item_type = pd.read_csv('data/data_ICM_type.csv', usecols = ['item_id', 'feature_id'], dtype={0:int, 1:int})\n",
    "item_length = pd.read_csv('data/data_ICM_length.csv', usecols = ['item_id', 'data'], dtype={0:int, 1:int})\n",
    "interactions = pd.read_csv('data/interactions_and_impressions.csv', dtype={0:int, 1:int, 2:str, 3:int})\n",
    "interactions = interactions.rename(columns={'UserID': 'user_id', 'ItemID': 'item_id', 'Data': 'data', 'Impressions': 'impressions'})"
   ]
  },
  {
   "cell_type": "code",
   "execution_count": 3,
   "metadata": {},
   "outputs": [
    {
     "data": {
      "text/html": [
       "<div>\n",
       "<style scoped>\n",
       "    .dataframe tbody tr th:only-of-type {\n",
       "        vertical-align: middle;\n",
       "    }\n",
       "\n",
       "    .dataframe tbody tr th {\n",
       "        vertical-align: top;\n",
       "    }\n",
       "\n",
       "    .dataframe thead th {\n",
       "        text-align: right;\n",
       "    }\n",
       "</style>\n",
       "<table border=\"1\" class=\"dataframe\">\n",
       "  <thead>\n",
       "    <tr style=\"text-align: right;\">\n",
       "      <th></th>\n",
       "      <th>user_id</th>\n",
       "      <th>item_id</th>\n",
       "      <th>impressions</th>\n",
       "      <th>data</th>\n",
       "    </tr>\n",
       "  </thead>\n",
       "  <tbody>\n",
       "    <tr>\n",
       "      <th>0</th>\n",
       "      <td>0</td>\n",
       "      <td>11</td>\n",
       "      <td>0,1,2,3,4,5,6,7,8,9,10,11,12,13,14,15,16,17,18,19</td>\n",
       "      <td>1</td>\n",
       "    </tr>\n",
       "    <tr>\n",
       "      <th>1</th>\n",
       "      <td>0</td>\n",
       "      <td>21</td>\n",
       "      <td>NaN</td>\n",
       "      <td>0</td>\n",
       "    </tr>\n",
       "    <tr>\n",
       "      <th>2</th>\n",
       "      <td>0</td>\n",
       "      <td>21</td>\n",
       "      <td>NaN</td>\n",
       "      <td>0</td>\n",
       "    </tr>\n",
       "    <tr>\n",
       "      <th>3</th>\n",
       "      <td>0</td>\n",
       "      <td>21</td>\n",
       "      <td>20,21,22,23,24,25,26,27,28,29</td>\n",
       "      <td>0</td>\n",
       "    </tr>\n",
       "    <tr>\n",
       "      <th>4</th>\n",
       "      <td>0</td>\n",
       "      <td>21</td>\n",
       "      <td>NaN</td>\n",
       "      <td>1</td>\n",
       "    </tr>\n",
       "    <tr>\n",
       "      <th>...</th>\n",
       "      <td>...</td>\n",
       "      <td>...</td>\n",
       "      <td>...</td>\n",
       "      <td>...</td>\n",
       "    </tr>\n",
       "    <tr>\n",
       "      <th>5826501</th>\n",
       "      <td>41628</td>\n",
       "      <td>20448</td>\n",
       "      <td>NaN</td>\n",
       "      <td>0</td>\n",
       "    </tr>\n",
       "    <tr>\n",
       "      <th>5826502</th>\n",
       "      <td>41628</td>\n",
       "      <td>20896</td>\n",
       "      <td>NaN</td>\n",
       "      <td>1</td>\n",
       "    </tr>\n",
       "    <tr>\n",
       "      <th>5826503</th>\n",
       "      <td>41628</td>\n",
       "      <td>21506</td>\n",
       "      <td>NaN</td>\n",
       "      <td>1</td>\n",
       "    </tr>\n",
       "    <tr>\n",
       "      <th>5826504</th>\n",
       "      <td>41628</td>\n",
       "      <td>22882</td>\n",
       "      <td>NaN</td>\n",
       "      <td>0</td>\n",
       "    </tr>\n",
       "    <tr>\n",
       "      <th>5826505</th>\n",
       "      <td>41628</td>\n",
       "      <td>23757</td>\n",
       "      <td>NaN</td>\n",
       "      <td>0</td>\n",
       "    </tr>\n",
       "  </tbody>\n",
       "</table>\n",
       "<p>5826506 rows × 4 columns</p>\n",
       "</div>"
      ],
      "text/plain": [
       "         user_id  item_id                                        impressions  \\\n",
       "0              0       11  0,1,2,3,4,5,6,7,8,9,10,11,12,13,14,15,16,17,18,19   \n",
       "1              0       21                                                NaN   \n",
       "2              0       21                                                NaN   \n",
       "3              0       21                      20,21,22,23,24,25,26,27,28,29   \n",
       "4              0       21                                                NaN   \n",
       "...          ...      ...                                                ...   \n",
       "5826501    41628    20448                                                NaN   \n",
       "5826502    41628    20896                                                NaN   \n",
       "5826503    41628    21506                                                NaN   \n",
       "5826504    41628    22882                                                NaN   \n",
       "5826505    41628    23757                                                NaN   \n",
       "\n",
       "         data  \n",
       "0           1  \n",
       "1           0  \n",
       "2           0  \n",
       "3           0  \n",
       "4           1  \n",
       "...       ...  \n",
       "5826501     0  \n",
       "5826502     1  \n",
       "5826503     1  \n",
       "5826504     0  \n",
       "5826505     0  \n",
       "\n",
       "[5826506 rows x 4 columns]"
      ]
     },
     "execution_count": 3,
     "metadata": {},
     "output_type": "execute_result"
    }
   ],
   "source": [
    "interactions"
   ]
  },
  {
   "cell_type": "markdown",
   "metadata": {},
   "source": [
    "### Preprocessing"
   ]
  },
  {
   "cell_type": "code",
   "execution_count": 4,
   "metadata": {},
   "outputs": [
    {
     "data": {
      "text/html": [
       "<div>\n",
       "<style scoped>\n",
       "    .dataframe tbody tr th:only-of-type {\n",
       "        vertical-align: middle;\n",
       "    }\n",
       "\n",
       "    .dataframe tbody tr th {\n",
       "        vertical-align: top;\n",
       "    }\n",
       "\n",
       "    .dataframe thead th {\n",
       "        text-align: right;\n",
       "    }\n",
       "</style>\n",
       "<table border=\"1\" class=\"dataframe\">\n",
       "  <thead>\n",
       "    <tr style=\"text-align: right;\">\n",
       "      <th></th>\n",
       "      <th>user_id</th>\n",
       "      <th>item_id</th>\n",
       "    </tr>\n",
       "  </thead>\n",
       "  <tbody>\n",
       "    <tr>\n",
       "      <th>1</th>\n",
       "      <td>0</td>\n",
       "      <td>21</td>\n",
       "    </tr>\n",
       "    <tr>\n",
       "      <th>2</th>\n",
       "      <td>0</td>\n",
       "      <td>21</td>\n",
       "    </tr>\n",
       "    <tr>\n",
       "      <th>3</th>\n",
       "      <td>0</td>\n",
       "      <td>21</td>\n",
       "    </tr>\n",
       "    <tr>\n",
       "      <th>37</th>\n",
       "      <td>0</td>\n",
       "      <td>124</td>\n",
       "    </tr>\n",
       "    <tr>\n",
       "      <th>42</th>\n",
       "      <td>0</td>\n",
       "      <td>808</td>\n",
       "    </tr>\n",
       "  </tbody>\n",
       "</table>\n",
       "</div>"
      ],
      "text/plain": [
       "    user_id  item_id\n",
       "1         0       21\n",
       "2         0       21\n",
       "3         0       21\n",
       "37        0      124\n",
       "42        0      808"
      ]
     },
     "execution_count": 4,
     "metadata": {},
     "output_type": "execute_result"
    }
   ],
   "source": [
    "views = interactions[interactions[\"data\"] == 0].drop(['data', 'impressions'], axis=1)\n",
    "views.head()"
   ]
  },
  {
   "cell_type": "code",
   "execution_count": 5,
   "metadata": {},
   "outputs": [
    {
     "data": {
      "text/html": [
       "<div>\n",
       "<style scoped>\n",
       "    .dataframe tbody tr th:only-of-type {\n",
       "        vertical-align: middle;\n",
       "    }\n",
       "\n",
       "    .dataframe tbody tr th {\n",
       "        vertical-align: top;\n",
       "    }\n",
       "\n",
       "    .dataframe thead th {\n",
       "        text-align: right;\n",
       "    }\n",
       "</style>\n",
       "<table border=\"1\" class=\"dataframe\">\n",
       "  <thead>\n",
       "    <tr style=\"text-align: right;\">\n",
       "      <th></th>\n",
       "      <th>user_id</th>\n",
       "      <th>item_id</th>\n",
       "    </tr>\n",
       "  </thead>\n",
       "  <tbody>\n",
       "    <tr>\n",
       "      <th>1</th>\n",
       "      <td>0</td>\n",
       "      <td>21</td>\n",
       "    </tr>\n",
       "    <tr>\n",
       "      <th>37</th>\n",
       "      <td>0</td>\n",
       "      <td>124</td>\n",
       "    </tr>\n",
       "    <tr>\n",
       "      <th>42</th>\n",
       "      <td>0</td>\n",
       "      <td>808</td>\n",
       "    </tr>\n",
       "    <tr>\n",
       "      <th>44</th>\n",
       "      <td>0</td>\n",
       "      <td>1326</td>\n",
       "    </tr>\n",
       "    <tr>\n",
       "      <th>49</th>\n",
       "      <td>0</td>\n",
       "      <td>1995</td>\n",
       "    </tr>\n",
       "  </tbody>\n",
       "</table>\n",
       "</div>"
      ],
      "text/plain": [
       "    user_id  item_id\n",
       "1         0       21\n",
       "37        0      124\n",
       "42        0      808\n",
       "44        0     1326\n",
       "49        0     1995"
      ]
     },
     "execution_count": 5,
     "metadata": {},
     "output_type": "execute_result"
    }
   ],
   "source": [
    "views = views.drop_duplicates()\n",
    "views.head()"
   ]
  },
  {
   "cell_type": "code",
   "execution_count": 6,
   "metadata": {},
   "outputs": [
    {
     "data": {
      "text/plain": [
       "<41629x24507 sparse matrix of type '<class 'numpy.float64'>'\n",
       "\twith 1051828 stored elements in COOrdinate format>"
      ]
     },
     "execution_count": 6,
     "metadata": {},
     "output_type": "execute_result"
    }
   ],
   "source": [
    "views_matrix = sps.coo_matrix((np.ones(len(views)), (views[\"user_id\"].values, views[\"item_id\"].values)))\n",
    "# views_matrix = views_matrix.tocsr()\n",
    "views_matrix"
   ]
  },
  {
   "cell_type": "code",
   "execution_count": 7,
   "metadata": {},
   "outputs": [
    {
     "data": {
      "text/plain": [
       "array([   3,    4,    5, ..., 4676, 5366, 7382], dtype=int32)"
      ]
     },
     "execution_count": 7,
     "metadata": {},
     "output_type": "execute_result"
    }
   ],
   "source": [
    "item_popularity = np.sort(np.ediff1d(views_matrix.tocsc().indptr))\n",
    "item_popularity"
   ]
  },
  {
   "cell_type": "code",
   "execution_count": 8,
   "metadata": {},
   "outputs": [],
   "source": [
    "train_test_split = 0.80\n",
    "\n",
    "train_mask = np.random.choice([True,False], views_matrix.nnz, p=[train_test_split, 1-train_test_split])\n",
    "test_mask = np.logical_not(train_mask)\n",
    "\n",
    "views_train = sps.csr_matrix((views_matrix.data[train_mask], (views_matrix.row[train_mask], views_matrix.col[train_mask])))\n",
    "views_test = sps.csr_matrix((views_matrix.data[test_mask], (views_matrix.row[test_mask], views_matrix.col[test_mask])))"
   ]
  },
  {
   "cell_type": "markdown",
   "metadata": {},
   "source": [
    "### Recomender"
   ]
  },
  {
   "cell_type": "code",
   "execution_count": 9,
   "metadata": {},
   "outputs": [
    {
     "name": "stdout",
     "output_type": "stream",
     "text": [
      "[22 56 20 25 23]\n",
      "[21 22 56 20 25]\n",
      "[21 22 56 25 23]\n",
      "[ 21  20  25  23 450]\n",
      "[21 22 56 20 23]\n",
      "[21 22 20 25 23]\n",
      "[21 22 56 20 25]\n",
      "[21 22 56 20 23]\n",
      "[21 22 56 20 25]\n",
      "[ 21  56  25  23 450]\n"
     ]
    }
   ],
   "source": [
    "class TopPopRecommender(object):\n",
    "    def __init__(self, URM_train):\n",
    "        self.URM_train = URM_train\n",
    "\n",
    "    def fit(self):\n",
    "        item_popularity = np.ediff1d(self.URM_train.tocsc().indptr)\n",
    "        self.popular_items = np.argsort(item_popularity)\n",
    "        self.popular_items = np.flip(self.popular_items, axis = 0)\n",
    "    \n",
    "    \n",
    "    def recommend(self, user_id, at=10):\n",
    "        seen_items = self.URM_train.indices[self.URM_train.indptr[user_id]:self.URM_train.indptr[user_id+1]]\n",
    "        unseen_items_mask = np.in1d(self.popular_items, seen_items, assume_unique=True, invert = True)\n",
    "        unseen_items = self.popular_items[unseen_items_mask]\n",
    "        recommended_items = unseen_items[0:at]\n",
    "            \n",
    "        return recommended_items\n",
    "\n",
    "\n",
    "top_pop = TopPopRecommender(views_train)\n",
    "top_pop.fit()\n",
    "\n",
    "for user_id in range(10):\n",
    "    print(top_pop.recommend(user_id, at=5))"
   ]
  },
  {
   "cell_type": "markdown",
   "metadata": {},
   "source": [
    "### Evaluation"
   ]
  },
  {
   "cell_type": "markdown",
   "metadata": {},
   "source": [
    "### Retrain and submission"
   ]
  },
  {
   "cell_type": "code",
   "execution_count": 11,
   "metadata": {},
   "outputs": [
    {
     "ename": "AttributeError",
     "evalue": "'DataFrame' object has no attribute 'tocsc'",
     "output_type": "error",
     "traceback": [
      "\u001b[1;31m---------------------------------------------------------------------------\u001b[0m",
      "\u001b[1;31mAttributeError\u001b[0m                            Traceback (most recent call last)",
      "Cell \u001b[1;32mIn [11], line 2\u001b[0m\n\u001b[0;32m      1\u001b[0m final_recommender \u001b[39m=\u001b[39m TopPopRecommender(views)\n\u001b[1;32m----> 2\u001b[0m final_recommender\u001b[39m.\u001b[39;49mfit()\n",
      "Cell \u001b[1;32mIn [9], line 6\u001b[0m, in \u001b[0;36mTopPopRecommender.fit\u001b[1;34m(self)\u001b[0m\n\u001b[0;32m      5\u001b[0m \u001b[39mdef\u001b[39;00m \u001b[39mfit\u001b[39m(\u001b[39mself\u001b[39m):\n\u001b[1;32m----> 6\u001b[0m     item_popularity \u001b[39m=\u001b[39m np\u001b[39m.\u001b[39mediff1d(\u001b[39mself\u001b[39;49m\u001b[39m.\u001b[39;49mURM_train\u001b[39m.\u001b[39;49mtocsc()\u001b[39m.\u001b[39mindptr)\n\u001b[0;32m      7\u001b[0m     \u001b[39mself\u001b[39m\u001b[39m.\u001b[39mpopular_items \u001b[39m=\u001b[39m np\u001b[39m.\u001b[39margsort(item_popularity)\n\u001b[0;32m      8\u001b[0m     \u001b[39mself\u001b[39m\u001b[39m.\u001b[39mpopular_items \u001b[39m=\u001b[39m np\u001b[39m.\u001b[39mflip(\u001b[39mself\u001b[39m\u001b[39m.\u001b[39mpopular_items, axis \u001b[39m=\u001b[39m \u001b[39m0\u001b[39m)\n",
      "File \u001b[1;32md:\\Developing\\RecSys_PoliMi_challenge_2020\\.venv\\lib\\site-packages\\pandas\\core\\generic.py:5902\u001b[0m, in \u001b[0;36mNDFrame.__getattr__\u001b[1;34m(self, name)\u001b[0m\n\u001b[0;32m   5895\u001b[0m \u001b[39mif\u001b[39;00m (\n\u001b[0;32m   5896\u001b[0m     name \u001b[39mnot\u001b[39;00m \u001b[39min\u001b[39;00m \u001b[39mself\u001b[39m\u001b[39m.\u001b[39m_internal_names_set\n\u001b[0;32m   5897\u001b[0m     \u001b[39mand\u001b[39;00m name \u001b[39mnot\u001b[39;00m \u001b[39min\u001b[39;00m \u001b[39mself\u001b[39m\u001b[39m.\u001b[39m_metadata\n\u001b[0;32m   5898\u001b[0m     \u001b[39mand\u001b[39;00m name \u001b[39mnot\u001b[39;00m \u001b[39min\u001b[39;00m \u001b[39mself\u001b[39m\u001b[39m.\u001b[39m_accessors\n\u001b[0;32m   5899\u001b[0m     \u001b[39mand\u001b[39;00m \u001b[39mself\u001b[39m\u001b[39m.\u001b[39m_info_axis\u001b[39m.\u001b[39m_can_hold_identifiers_and_holds_name(name)\n\u001b[0;32m   5900\u001b[0m ):\n\u001b[0;32m   5901\u001b[0m     \u001b[39mreturn\u001b[39;00m \u001b[39mself\u001b[39m[name]\n\u001b[1;32m-> 5902\u001b[0m \u001b[39mreturn\u001b[39;00m \u001b[39mobject\u001b[39;49m\u001b[39m.\u001b[39;49m\u001b[39m__getattribute__\u001b[39;49m(\u001b[39mself\u001b[39;49m, name)\n",
      "\u001b[1;31mAttributeError\u001b[0m: 'DataFrame' object has no attribute 'tocsc'"
     ]
    }
   ],
   "source": [
    "final_recommender = TopPopRecommender(views)\n",
    "final_recommender.fit()"
   ]
  },
  {
   "cell_type": "code",
   "execution_count": null,
   "metadata": {},
   "outputs": [],
   "source": [
    "from utils import create_submission\n",
    "\n",
    "create_submission(final_recommender)"
   ]
  }
 ],
 "metadata": {
  "kernelspec": {
   "display_name": "Python 3.10.6 ('.venv': poetry)",
   "language": "python",
   "name": "python3"
  },
  "language_info": {
   "codemirror_mode": {
    "name": "ipython",
    "version": 3
   },
   "file_extension": ".py",
   "mimetype": "text/x-python",
   "name": "python",
   "nbconvert_exporter": "python",
   "pygments_lexer": "ipython3",
   "version": "3.10.6"
  },
  "orig_nbformat": 4,
  "vscode": {
   "interpreter": {
    "hash": "4188b889b75fa04b540dc3b3d88b44a92f17011a3546136f7949774b76f654ae"
   }
  }
 },
 "nbformat": 4,
 "nbformat_minor": 2
}
