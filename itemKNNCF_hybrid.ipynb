{
 "cells": [
  {
   "cell_type": "code",
   "execution_count": 6,
   "metadata": {},
   "outputs": [],
   "source": [
    "import os\n",
    "import random\n",
    "\n",
    "import numpy as np\n",
    "import pandas as pd\n",
    "import scipy.sparse as sps\n",
    "import matplotlib.pyplot as plt\n",
    "\n",
    "from sklearn.model_selection import train_test_split\n",
    "\n",
    "# Random seed for reproducibility\n",
    "seed = 42\n",
    "\n",
    "random.seed(seed)\n",
    "os.environ['PYTHONHASHSEED'] = str(seed)\n",
    "np.random.seed(seed)"
   ]
  },
  {
   "cell_type": "code",
   "execution_count": 7,
   "metadata": {},
   "outputs": [],
   "source": [
    "URM_views_all = sps.load_npz(\"Data/URM/views/URM_views_all.npz\")\n",
    "URM_views_train = sps.load_npz(\"Data/URM/views/URM_views_train.npz\")\n",
    "URM_views_val = sps.load_npz(\"Data/URM/views/URM_views_val.npz\")\n",
    "URM_details_all = sps.load_npz(\"Data/URM/views/URM_details_all.npz\")\n",
    "URM_details_train = sps.load_npz(\"Data/URM/views/URM_details_train.npz\")\n",
    "URM_details_val = sps.load_npz(\"Data/URM/views/URM_details_val.npz\")\n",
    "\n",
    "URM_all = sps.vstack([URM_views_all, URM_details_all])\n",
    "URM_train = sps.vstack([URM_views_train, URM_details_train])\n",
    "URM_val = sps.load_npz(\"Data/URM/combined/URM_combined_val.npz\")"
   ]
  },
  {
   "cell_type": "code",
   "execution_count": 8,
   "metadata": {},
   "outputs": [
    {
     "name": "stdout",
     "output_type": "stream",
     "text": [
      "EvaluatorHoldout: Ignoring 1236 ( 3.0%) Users that have less than 1 test interactions\n"
     ]
    }
   ],
   "source": [
    "from evaluation.evaluator import EvaluatorHoldout\n",
    "\n",
    "evaluator = EvaluatorHoldout(URM_val, cutoff_list=[10])"
   ]
  },
  {
   "cell_type": "code",
   "execution_count": 9,
   "metadata": {},
   "outputs": [],
   "source": [
    "from Recommenders.KNN.ItemKNNCFRecommender import ItemKNNCFRecommender\n",
    "from HyperparameterTuning.run_hyperparameter_search import runHyperparameterSearch_Collaborative\n",
    "\n",
    "n_cases=10\n",
    "\n",
    "runHyperparameterSearch_Collaborative(\n",
    "    ItemKNNCFRecommender,\n",
    "    URM_train=URM_train,\n",
    "    n_cases=n_cases,\n",
    "    n_random_starts = int(n_cases*0.3),\n",
    "    evaluator_validation=evaluator,\n",
    "    output_folder_path=\"result_experiments/item_knn_cf_views/\",\n",
    "    cutoff_to_optimize=10,\n",
    "    metric_to_optimize=\"MAP\",\n",
    "    similarity_type_list=[\"cosine\", \"jaccard\"]\n",
    ")\n"
   ]
  },
  {
   "cell_type": "code",
   "execution_count": null,
   "metadata": {},
   "outputs": [
    {
     "ename": "FileNotFoundError",
     "evalue": "[Errno 2] No such file or directory: 'result_experiments/item_knn_cf_views/ItemKNNCFRecommender_cosine_metadata.zip'",
     "output_type": "error",
     "traceback": [
      "\u001b[1;31m---------------------------------------------------------------------------\u001b[0m",
      "\u001b[1;31mFileNotFoundError\u001b[0m                         Traceback (most recent call last)",
      "Cell \u001b[1;32mIn[5], line 4\u001b[0m\n\u001b[0;32m      1\u001b[0m \u001b[39mfrom\u001b[39;00m \u001b[39mRecommenders\u001b[39;00m\u001b[39m.\u001b[39;00m\u001b[39mDataIO\u001b[39;00m \u001b[39mimport\u001b[39;00m DataIO\n\u001b[0;32m      3\u001b[0m data_loader \u001b[39m=\u001b[39m DataIO(folder_path \u001b[39m=\u001b[39m \u001b[39m\"\u001b[39m\u001b[39mresult_experiments/item_knn_cf_views/\u001b[39m\u001b[39m\"\u001b[39m)\n\u001b[1;32m----> 4\u001b[0m search_metadata \u001b[39m=\u001b[39m data_loader\u001b[39m.\u001b[39;49mload_data(ItemKNNCFRecommender\u001b[39m.\u001b[39;49mRECOMMENDER_NAME \u001b[39m+\u001b[39;49m \u001b[39m\"\u001b[39;49m\u001b[39m_cosine_metadata.zip\u001b[39;49m\u001b[39m\"\u001b[39;49m)\n\u001b[0;32m      6\u001b[0m result_on_validation_df \u001b[39m=\u001b[39m search_metadata[\u001b[39m\"\u001b[39m\u001b[39mresult_on_validation_df\u001b[39m\u001b[39m\"\u001b[39m]\n\u001b[0;32m      7\u001b[0m result_on_validation_df\n",
      "File \u001b[1;32md:\\Developing\\RecSys_PoliMi_challenge_2020\\Recommenders\\DataIO.py:211\u001b[0m, in \u001b[0;36mDataIO.load_data\u001b[1;34m(self, file_name)\u001b[0m\n\u001b[0;32m    208\u001b[0m \u001b[39mif\u001b[39;00m file_name[\u001b[39m-\u001b[39m\u001b[39m4\u001b[39m:] \u001b[39m!=\u001b[39m \u001b[39m\"\u001b[39m\u001b[39m.zip\u001b[39m\u001b[39m\"\u001b[39m:\n\u001b[0;32m    209\u001b[0m     file_name \u001b[39m+\u001b[39m\u001b[39m=\u001b[39m \u001b[39m\"\u001b[39m\u001b[39m.zip\u001b[39m\u001b[39m\"\u001b[39m\n\u001b[1;32m--> 211\u001b[0m dataFile \u001b[39m=\u001b[39m zipfile\u001b[39m.\u001b[39;49mZipFile(\u001b[39mself\u001b[39;49m\u001b[39m.\u001b[39;49mfolder_path \u001b[39m+\u001b[39;49m file_name)\n\u001b[0;32m    213\u001b[0m dataFile\u001b[39m.\u001b[39mtestzip()\n\u001b[0;32m    215\u001b[0m current_temp_folder \u001b[39m=\u001b[39m \u001b[39mself\u001b[39m\u001b[39m.\u001b[39m_get_temp_folder(file_name)\n",
      "File \u001b[1;32m~\\AppData\\Local\\Programs\\Python\\Python38\\lib\\zipfile.py:1251\u001b[0m, in \u001b[0;36mZipFile.__init__\u001b[1;34m(self, file, mode, compression, allowZip64, compresslevel, strict_timestamps)\u001b[0m\n\u001b[0;32m   1249\u001b[0m \u001b[39mwhile\u001b[39;00m \u001b[39mTrue\u001b[39;00m:\n\u001b[0;32m   1250\u001b[0m     \u001b[39mtry\u001b[39;00m:\n\u001b[1;32m-> 1251\u001b[0m         \u001b[39mself\u001b[39m\u001b[39m.\u001b[39mfp \u001b[39m=\u001b[39m io\u001b[39m.\u001b[39;49mopen(file, filemode)\n\u001b[0;32m   1252\u001b[0m     \u001b[39mexcept\u001b[39;00m \u001b[39mOSError\u001b[39;00m:\n\u001b[0;32m   1253\u001b[0m         \u001b[39mif\u001b[39;00m filemode \u001b[39min\u001b[39;00m modeDict:\n",
      "\u001b[1;31mFileNotFoundError\u001b[0m: [Errno 2] No such file or directory: 'result_experiments/item_knn_cf_views/ItemKNNCFRecommender_cosine_metadata.zip'"
     ]
    }
   ],
   "source": [
    "from Recommenders.DataIO import DataIO\n",
    "\n",
    "data_loader = DataIO(folder_path = \"result_experiments/item_knn_cf_views/\")\n",
    "search_metadata = data_loader.load_data(ItemKNNCFRecommender.RECOMMENDER_NAME + \"_cosine_metadata.zip\")\n",
    "\n",
    "result_on_validation_df = search_metadata[\"result_on_validation_df\"]\n",
    "result_on_validation_df"
   ]
  },
  {
   "cell_type": "code",
   "execution_count": null,
   "metadata": {},
   "outputs": [
    {
     "data": {
      "text/html": [
       "<div>\n",
       "<style scoped>\n",
       "    .dataframe tbody tr th:only-of-type {\n",
       "        vertical-align: middle;\n",
       "    }\n",
       "\n",
       "    .dataframe tbody tr th {\n",
       "        vertical-align: top;\n",
       "    }\n",
       "\n",
       "    .dataframe thead th {\n",
       "        text-align: right;\n",
       "    }\n",
       "</style>\n",
       "<table border=\"1\" class=\"dataframe\">\n",
       "  <thead>\n",
       "    <tr style=\"text-align: right;\">\n",
       "      <th></th>\n",
       "      <th>topK</th>\n",
       "      <th>shrink</th>\n",
       "      <th>similarity</th>\n",
       "      <th>normalize</th>\n",
       "      <th>feature_weighting</th>\n",
       "    </tr>\n",
       "  </thead>\n",
       "  <tbody>\n",
       "    <tr>\n",
       "      <th>0</th>\n",
       "      <td>760</td>\n",
       "      <td>784</td>\n",
       "      <td>cosine</td>\n",
       "      <td>True</td>\n",
       "      <td>TF-IDF</td>\n",
       "    </tr>\n",
       "    <tr>\n",
       "      <th>1</th>\n",
       "      <td>510</td>\n",
       "      <td>45</td>\n",
       "      <td>cosine</td>\n",
       "      <td>True</td>\n",
       "      <td>none</td>\n",
       "    </tr>\n",
       "    <tr>\n",
       "      <th>2</th>\n",
       "      <td>313</td>\n",
       "      <td>643</td>\n",
       "      <td>cosine</td>\n",
       "      <td>True</td>\n",
       "      <td>TF-IDF</td>\n",
       "    </tr>\n",
       "    <tr>\n",
       "      <th>3</th>\n",
       "      <td>100</td>\n",
       "      <td>0</td>\n",
       "      <td>cosine</td>\n",
       "      <td>True</td>\n",
       "      <td>BM25</td>\n",
       "    </tr>\n",
       "    <tr>\n",
       "      <th>4</th>\n",
       "      <td>29</td>\n",
       "      <td>0</td>\n",
       "      <td>cosine</td>\n",
       "      <td>False</td>\n",
       "      <td>TF-IDF</td>\n",
       "    </tr>\n",
       "    <tr>\n",
       "      <th>5</th>\n",
       "      <td>151</td>\n",
       "      <td>685</td>\n",
       "      <td>cosine</td>\n",
       "      <td>True</td>\n",
       "      <td>none</td>\n",
       "    </tr>\n",
       "    <tr>\n",
       "      <th>6</th>\n",
       "      <td>979</td>\n",
       "      <td>0</td>\n",
       "      <td>cosine</td>\n",
       "      <td>False</td>\n",
       "      <td>none</td>\n",
       "    </tr>\n",
       "    <tr>\n",
       "      <th>7</th>\n",
       "      <td>938</td>\n",
       "      <td>994</td>\n",
       "      <td>cosine</td>\n",
       "      <td>False</td>\n",
       "      <td>BM25</td>\n",
       "    </tr>\n",
       "    <tr>\n",
       "      <th>8</th>\n",
       "      <td>991</td>\n",
       "      <td>9</td>\n",
       "      <td>cosine</td>\n",
       "      <td>True</td>\n",
       "      <td>TF-IDF</td>\n",
       "    </tr>\n",
       "    <tr>\n",
       "      <th>9</th>\n",
       "      <td>149</td>\n",
       "      <td>1000</td>\n",
       "      <td>cosine</td>\n",
       "      <td>False</td>\n",
       "      <td>TF-IDF</td>\n",
       "    </tr>\n",
       "  </tbody>\n",
       "</table>\n",
       "</div>"
      ],
      "text/plain": [
       "  topK shrink similarity normalize feature_weighting\n",
       "0  760    784     cosine      True            TF-IDF\n",
       "1  510     45     cosine      True              none\n",
       "2  313    643     cosine      True            TF-IDF\n",
       "3  100      0     cosine      True              BM25\n",
       "4   29      0     cosine     False            TF-IDF\n",
       "5  151    685     cosine      True              none\n",
       "6  979      0     cosine     False              none\n",
       "7  938    994     cosine     False              BM25\n",
       "8  991      9     cosine      True            TF-IDF\n",
       "9  149   1000     cosine     False            TF-IDF"
      ]
     },
     "execution_count": 6,
     "metadata": {},
     "output_type": "execute_result"
    }
   ],
   "source": [
    "hyperparameters_df = search_metadata[\"hyperparameters_df\"]\n",
    "hyperparameters_df"
   ]
  },
  {
   "cell_type": "code",
   "execution_count": null,
   "metadata": {},
   "outputs": [
    {
     "data": {
      "text/plain": [
       "{'topK': 991,\n",
       " 'shrink': 9,\n",
       " 'similarity': 'cosine',\n",
       " 'normalize': True,\n",
       " 'feature_weighting': 'TF-IDF'}"
      ]
     },
     "execution_count": 8,
     "metadata": {},
     "output_type": "execute_result"
    }
   ],
   "source": [
    "best_hyperparameters = search_metadata[\"hyperparameters_best\"]\n",
    "best_hyperparameters"
   ]
  },
  {
   "cell_type": "code",
   "execution_count": null,
   "metadata": {},
   "outputs": [
    {
     "data": {
      "text/plain": [
       "[None, None, None, None, None, None, None, None, None, None]"
      ]
     },
     "execution_count": 9,
     "metadata": {},
     "output_type": "execute_result"
    }
   ],
   "source": [
    "exception_list = search_metadata[\"exception_list\"]\n",
    "exception_list"
   ]
  },
  {
   "cell_type": "code",
   "execution_count": 10,
   "metadata": {},
   "outputs": [
    {
     "name": "stdout",
     "output_type": "stream",
     "text": [
      "Similarity column 24507 (100.0%), 3046.06 column/sec. Elapsed time 8.05 sec\n"
     ]
    }
   ],
   "source": [
    "recommender = ItemKNNCFRecommender(URM_all)\n",
    "recommender.fit(topK=991, shrink=9, similarity='cosine', normalize=True, feature_weighting='TF-IDF')\n",
    "recommender.save_model(folder_path = \"result_experiments/item_knn_cf_views/\", file_name=\"best.zip\")"
   ]
  },
  {
   "cell_type": "code",
   "execution_count": 11,
   "metadata": {},
   "outputs": [],
   "source": [
    "target_users = pd.read_csv('Data/data_target_users_test.csv', dtype={0:int})"
   ]
  },
  {
   "cell_type": "code",
   "execution_count": 12,
   "metadata": {},
   "outputs": [
    {
     "name": "stdout",
     "output_type": "stream",
     "text": [
      "Creating recomendations...\n"
     ]
    }
   ],
   "source": [
    "target_users = pd.read_csv('Data/data_target_users_test.csv', dtype={0:int})[\"user_id\"].values\n",
    "\n",
    "print(\"Creating recomendations...\")\n",
    "recomendations = recommender.recommend(\n",
    "    target_users,\n",
    "    cutoff = 10\n",
    ")"
   ]
  },
  {
   "cell_type": "code",
   "execution_count": 13,
   "metadata": {},
   "outputs": [
    {
     "name": "stdout",
     "output_type": "stream",
     "text": [
      "Writing to file...\n"
     ]
    }
   ],
   "source": [
    "from datetime import datetime\n",
    "out = os.path.join('Output', datetime.now().strftime('%Y_%m_%d_%H_%M_%S') + '.csv')\n",
    "print(\"Writing to file...\")\n",
    "with open(out, 'w') as f:\n",
    "    f.write('user_id,item_list\\n')\n",
    "\n",
    "    for i in range(len(target_users)):\n",
    "        f.write(str(target_users[i]) + \",\" + \" \".join(str(x) for x in recomendations[i]) + \"\\n\")"
   ]
  }
 ],
 "metadata": {
  "kernelspec": {
   "display_name": "Python 3.10.6 ('.venv': poetry)",
   "language": "python",
   "name": "python3"
  },
  "language_info": {
   "codemirror_mode": {
    "name": "ipython",
    "version": 3
   },
   "file_extension": ".py",
   "mimetype": "text/x-python",
   "name": "python",
   "nbconvert_exporter": "python",
   "pygments_lexer": "ipython3",
   "version": "3.8.10 (tags/v3.8.10:3d8993a, May  3 2021, 11:48:03) [MSC v.1928 64 bit (AMD64)]"
  },
  "orig_nbformat": 4,
  "vscode": {
   "interpreter": {
    "hash": "4188b889b75fa04b540dc3b3d88b44a92f17011a3546136f7949774b76f654ae"
   }
  }
 },
 "nbformat": 4,
 "nbformat_minor": 2
}
